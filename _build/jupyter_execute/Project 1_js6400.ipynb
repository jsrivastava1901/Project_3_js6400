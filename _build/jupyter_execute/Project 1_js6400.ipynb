{
 "cells": [
  {
   "cell_type": "markdown",
   "id": "3c442aa7-3d26-4cff-a210-1cd7d1715f4c",
   "metadata": {},
   "source": [
    "# Project 1\n",
    "\n",
    "## Dataset: Disorders involving peacekeepers\n",
    "\n",
    "### Description:\n",
    "\n",
    "The dataset was downloaded from the ACLED database. It contains instances of political disorders (violent and non-violent) directly or indirectly involving actors in peacekeeping missions from 1997 - 2024. This dataset covers a variety of peacekeeping missions like MINUSMA, AMISOM etc. *More details are available here: https://acleddata.com/knowledge-base/faqs-what-can-and-cannot-be-done-with-acled-data-on-disorder-involving-peacekeepers/*\n",
    "\n",
    "### Overall Approach:\n",
    "\n",
    "I found that it was easier to write codes when I was using pandas, as compared to working on the codes the 'hard way.' Nonetheless, it was an interesting exercise especially in terms of interpretation and visualization of data. I took the help of a friend (who studied computer science) who checked my codes and I made some modifications accordingly. "
   ]
  },
  {
   "cell_type": "markdown",
   "id": "b57b16a8-e31a-4aef-bb80-08a8bf14c2d4",
   "metadata": {},
   "source": [
    "### Importing pandas & uploading the dataset"
   ]
  },
  {
   "cell_type": "code",
   "execution_count": 1,
   "id": "35bc72de-f9b9-45ef-8a66-d8e3c0b380de",
   "metadata": {},
   "outputs": [
    {
     "ename": "ModuleNotFoundError",
     "evalue": "No module named 'pandas'",
     "output_type": "error",
     "traceback": [
      "\u001b[1;31m---------------------------------------------------------------------------\u001b[0m",
      "\u001b[1;31mModuleNotFoundError\u001b[0m                       Traceback (most recent call last)",
      "Cell \u001b[1;32mIn[1], line 1\u001b[0m\n\u001b[1;32m----> 1\u001b[0m \u001b[38;5;28;01mimport\u001b[39;00m \u001b[38;5;21;01mpandas\u001b[39;00m \u001b[38;5;28;01mas\u001b[39;00m \u001b[38;5;21;01mpd\u001b[39;00m\n",
      "\u001b[1;31mModuleNotFoundError\u001b[0m: No module named 'pandas'"
     ]
    }
   ],
   "source": [
    "import pandas as pd"
   ]
  },
  {
   "cell_type": "code",
   "execution_count": 4,
   "id": "7144caea-92b0-48d1-9291-c9eb4d301eb4",
   "metadata": {},
   "outputs": [],
   "source": [
    "data_peacekeeping_disorders = pd.read_csv(\"C:/Users/joosa/OneDrive/Desktop/peacekeeping_2024-10-25.csv\")"
   ]
  },
  {
   "cell_type": "markdown",
   "id": "e2f44ca3-cd53-4c21-a9b7-e9ac0a5c8f58",
   "metadata": {},
   "source": [
    "### Computing mean, median and mode via pandas\n",
    "\n",
    "I used pandas to calculate the mean, median and mode of the numeric column ('Fatalities')\n",
    "\n",
    "**Interpretation**:\n",
    "* **Mean** - On an average, disorders involving peacekeeping actors have only resulted in approximately 1.19 fatalities.\n",
    "* **Median** - The middle value is 0; this suggests that nearly half of the disorders involving peacekeepers did not result in fatalities.\n",
    "* **Mode** - the most frequently occuring number is 0; this is consistent with the median, that the majority disorders did not result in fatalities. "
   ]
  },
  {
   "cell_type": "code",
   "execution_count": 21,
   "id": "c216ed2f-e98d-4426-97dc-6a1ad37ba444",
   "metadata": {},
   "outputs": [
    {
     "name": "stdout",
     "output_type": "stream",
     "text": [
      "a. Mean fatalities from disorders involving peacekeepers is 1.1932650073206441\n",
      "b. Median fatalities from disorders involving peacekeepers is 0.0\n",
      "c. Mode fatalities from disorders involving peacekeepers is 0\n"
     ]
    }
   ],
   "source": [
    "mean_fatalities = data_peacekeeping_disorders[\"FATALITIES\"].mean()\n",
    "print(\"a. Mean fatalities from disorders involving peacekeepers is\", mean_fatalities)\n",
    "\n",
    "median_fatalities = data_peacekeeping_disorders[\"FATALITIES\"].median()\n",
    "print(\"b. Median fatalities from disorders involving peacekeepers is\", median_fatalities)\n",
    "\n",
    "mode_fatalities = data_peacekeeping_disorders[\"FATALITIES\"].mode()[0]\n",
    "print(\"c. Mode fatalities from disorders involving peacekeepers is\", mode_fatalities)"
   ]
  },
  {
   "cell_type": "markdown",
   "id": "6d755736-0b89-479c-a6d5-51fe7822734f",
   "metadata": {},
   "source": [
    "### Computing mean, median and mode the 'hard way'\n",
    "\n",
    "**Approach**: I calculated the mean, median and mode using only the Python standard library. This section was slightly challenging since I had to translate mathematical formulas into the code and it took me some time to ensure that the code worked correctly (like, the odd and even lengths in median.)\n",
    "\n",
    "**Interpretation**: The mean, median and mode remain the same as interpreted above."
   ]
  },
  {
   "cell_type": "code",
   "execution_count": 6,
   "id": "d46bdc1e-3c20-4c2c-91bf-28cea6f295fd",
   "metadata": {},
   "outputs": [
    {
     "name": "stdout",
     "output_type": "stream",
     "text": [
      "Mean fatalities are: 1.1932650073206441\n",
      "Median fatalities are: 0\n",
      "Mode fatalities are: [0]\n"
     ]
    }
   ],
   "source": [
    "def mean(numbers):\n",
    "    return sum(numbers) / len(numbers)\n",
    "\n",
    "def median(numbers):\n",
    "    sorted_list = sorted(numbers)\n",
    "    n = len(sorted_list)\n",
    "    mid = n // 2\n",
    "    if n % 2 == 0:\n",
    "        return (sorted_list[mid - 1] + sorted_list[mid]) / 2.0\n",
    "    else:\n",
    "        return sorted_list[mid]\n",
    "\n",
    "def mode(numbers):\n",
    "    count = {}\n",
    "    for number in numbers:\n",
    "        count[number] = count.get(number, 0) + 1\n",
    "    max_count = max(count.values())\n",
    "    modes = [key for key, value in count.items() if value == max_count]\n",
    "    if len(modes) == len(numbers):\n",
    "        return \"No mode\"\n",
    "    return modes\n",
    "\n",
    "fatalities_list = data_peacekeeping_disorders[\"FATALITIES\"].tolist()\n",
    "\n",
    "mean_fatalities = mean(fatalities_list)\n",
    "print(\"Mean fatalities are:\", mean_fatalities)\n",
    "\n",
    "median_fatalities = median(fatalities_list)\n",
    "print(\"Median fatalities are:\", median_fatalities)\n",
    "\n",
    "mode_fatalities = mode(fatalities_list)\n",
    "print(\"Mode fatalities are:\", mode_fatalities)"
   ]
  },
  {
   "cell_type": "markdown",
   "id": "46da7405-538f-4724-843b-251e9dfe86da",
   "metadata": {},
   "source": [
    "### Data Visualization\n",
    "\n",
    "**Approach**: I had challenges with the grouping and aggregating the fatalities over the years and had to get a friend's help in writing this code. I was also confused about how to portray the data (whether a table or a histogram.)\n",
    "\n",
    "**Interpretation**: The fatalities ebb and flow over the years from 1997 till 2024. I think the most interesting thing for me was that even though there have been fatalities in each year (except 1999), the mean, median and mode (calculated earlier) actually indicate the opposite, that is, that there have been very few fatalities resulting from disorders involving peacekeepers."
   ]
  },
  {
   "cell_type": "code",
   "execution_count": 22,
   "id": "a9bf5e9b-8fb9-46a0-b1a9-23e6522cddc6",
   "metadata": {
    "scrolled": true
   },
   "outputs": [
    {
     "name": "stdout",
     "output_type": "stream",
     "text": [
      "Fatalities from 1997-2024\n",
      "1997: 108\n",
      "1998: 87\n",
      "1999: 0\n",
      "2000: 1\n",
      "2001: 50\n",
      "2002: 3\n",
      "2003: 40\n",
      "2004: 15\n",
      "2005: 54\n",
      "2006: 105\n",
      "2007: 56\n",
      "2008: 31\n",
      "2009: 78\n",
      "2010: 114\n",
      "2011: 60\n",
      "2012: 133\n",
      "2013: 226\n",
      "2014: 406\n",
      "2015: 325\n",
      "2016: 296\n",
      "2017: 372\n",
      "2018: 416\n",
      "2019: 136\n",
      "2020: 157\n",
      "2021: 389\n",
      "2022: 221\n",
      "2023: 165\n",
      "2024: 31\n"
     ]
    }
   ],
   "source": [
    "fatalities_over_the_years = {}\n",
    "for year, fatalities in zip(data_peacekeeping_disorders[\"YEAR\"], data_peacekeeping_disorders[\"FATALITIES\"]):\n",
    "    fatalities_over_the_years[year] = fatalities_over_the_years.get(year, 0) + fatalities\n",
    "\n",
    "def Fatalities_Chart(data):\n",
    "    print(\"Fatalities from 1997-2024\")\n",
    "    for year, count in sorted(data.items()):\n",
    "        print(f\"{year}: {count}\")\n",
    "Fatalities_Chart(fatalities_over_the_years)"
   ]
  },
  {
   "cell_type": "code",
   "execution_count": null,
   "id": "e5096f72-4ad2-484d-89c4-03cfed3ca318",
   "metadata": {},
   "outputs": [],
   "source": []
  }
 ],
 "metadata": {
  "kernelspec": {
   "display_name": "Python 3 (ipykernel)",
   "language": "python",
   "name": "python3"
  },
  "language_info": {
   "codemirror_mode": {
    "name": "ipython",
    "version": 3
   },
   "file_extension": ".py",
   "mimetype": "text/x-python",
   "name": "python",
   "nbconvert_exporter": "python",
   "pygments_lexer": "ipython3",
   "version": "3.12.7"
  }
 },
 "nbformat": 4,
 "nbformat_minor": 5
}