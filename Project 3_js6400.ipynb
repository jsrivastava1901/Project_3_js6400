{
 "cells": [
  {
   "cell_type": "markdown",
   "metadata": {},
   "source": [
    "# Project 3\n",
    "- **Datasets to be used:** \n",
    "    - **Languages in Indian States:** Translators without Borders (2020). Language and literacy data from the Office of the Registrar General & Census Commissioner, India (2011 Census). Accessed on November 22, 2024. Available here: https://data.humdata.org/dataset/61a9df6a-c1fa-4885-9c3f-e00666ec859c/resource/a6a31c2f-20a9-4f25-81f6-12ae60000bcd/download/in_lang_admin1_v01.csv.\n",
    "\n",
    "    - **Literacy in India:** Satyam Prasad Tiwari (2020). India Literacy Data - District Wise. Accessed November 22, 2024. Available here: Downloads/archive.zip\n",
    "https://www.kaggle.com/api/v1/datasets/download/satyampd/india-literacy-data-district-wise\n",
    "\n",
    "- **Analysis question:** Do states with larger populations, speaking a specific dominant language, have higher literacy rates?\n",
    "\n",
    "- **Columns that will be used:** States, Population Size, Language spoken\n",
    "\n",
    "- **Column to be used to merge datasets:** States\n",
    "\n",
    "- **Hypothesis:** States with larger populations speaking a specific dominant language have higher literacy rates because more populous states may have better access to resources, infrastructure, and educational materials tailored to their dominant language.\n",
    "\n",
    "- **Assistance:** I ran my codes through chatGPT and amended them accordingly.\n",
    "\n",
    "- **Site URL:** https://project-3-js6400.readthedocs.io/en/latest/"
   ]
  },
  {
   "cell_type": "code",
   "execution_count": null,
   "metadata": {},
   "outputs": [
    {
     "name": "stdout",
     "output_type": "stream",
     "text": [
      "Collecting pandas\n",
      "  Downloading pandas-2.2.3-cp312-cp312-win_amd64.whl.metadata (19 kB)\n",
      "Collecting matplotlib\n",
      "  Downloading matplotlib-3.9.3-cp312-cp312-win_amd64.whl.metadata (11 kB)\n",
      "Collecting seaborn\n",
      "  Downloading seaborn-0.13.2-py3-none-any.whl.metadata (5.4 kB)\n",
      "Collecting numpy>=1.26.0 (from pandas)\n",
      "  Downloading numpy-2.2.0-cp312-cp312-win_amd64.whl.metadata (60 kB)\n",
      "Requirement already satisfied: python-dateutil>=2.8.2 in c:\\users\\joosa\\anaconda3\\abc\\envs\\project_3\\lib\\site-packages (from pandas) (2.9.0.post0)\n",
      "Requirement already satisfied: pytz>=2020.1 in c:\\users\\joosa\\anaconda3\\abc\\envs\\project_3\\lib\\site-packages (from pandas) (2024.2)\n",
      "Collecting tzdata>=2022.7 (from pandas)\n",
      "  Downloading tzdata-2024.2-py2.py3-none-any.whl.metadata (1.4 kB)\n",
      "Collecting contourpy>=1.0.1 (from matplotlib)\n",
      "  Downloading contourpy-1.3.1-cp312-cp312-win_amd64.whl.metadata (5.4 kB)\n",
      "Collecting cycler>=0.10 (from matplotlib)\n",
      "  Downloading cycler-0.12.1-py3-none-any.whl.metadata (3.8 kB)\n",
      "Collecting fonttools>=4.22.0 (from matplotlib)\n",
      "  Downloading fonttools-4.55.3-cp312-cp312-win_amd64.whl.metadata (168 kB)\n",
      "Collecting kiwisolver>=1.3.1 (from matplotlib)\n",
      "  Downloading kiwisolver-1.4.7-cp312-cp312-win_amd64.whl.metadata (6.4 kB)\n",
      "Requirement already satisfied: packaging>=20.0 in c:\\users\\joosa\\anaconda3\\abc\\envs\\project_3\\lib\\site-packages (from matplotlib) (24.2)\n",
      "Collecting pillow>=8 (from matplotlib)\n",
      "  Downloading pillow-11.0.0-cp312-cp312-win_amd64.whl.metadata (9.3 kB)\n",
      "Collecting pyparsing>=2.3.1 (from matplotlib)\n",
      "  Downloading pyparsing-3.2.0-py3-none-any.whl.metadata (5.0 kB)\n",
      "Requirement already satisfied: six>=1.5 in c:\\users\\joosa\\anaconda3\\abc\\envs\\project_3\\lib\\site-packages (from python-dateutil>=2.8.2->pandas) (1.17.0)\n",
      "Downloading pandas-2.2.3-cp312-cp312-win_amd64.whl (11.5 MB)\n",
      "   ---------------------------------------- 0.0/11.5 MB ? eta -:--:--\n",
      "   ---------- ----------------------------- 2.9/11.5 MB 15.2 MB/s eta 0:00:01\n",
      "   --------------------- ------------------ 6.3/11.5 MB 14.8 MB/s eta 0:00:01\n",
      "   ------------------------------ --------- 8.9/11.5 MB 14.2 MB/s eta 0:00:01\n",
      "   ---------------------------------------- 11.5/11.5 MB 14.1 MB/s eta 0:00:00\n",
      "Downloading matplotlib-3.9.3-cp312-cp312-win_amd64.whl (7.8 MB)\n",
      "   ---------------------------------------- 0.0/7.8 MB ? eta -:--:--\n",
      "   -------------- ------------------------- 2.9/7.8 MB 15.3 MB/s eta 0:00:01\n",
      "   ------------------------------ --------- 6.0/7.8 MB 15.4 MB/s eta 0:00:01\n",
      "   ---------------------------------------- 7.8/7.8 MB 14.3 MB/s eta 0:00:00\n",
      "Downloading seaborn-0.13.2-py3-none-any.whl (294 kB)\n",
      "Downloading contourpy-1.3.1-cp312-cp312-win_amd64.whl (220 kB)\n",
      "Downloading cycler-0.12.1-py3-none-any.whl (8.3 kB)\n",
      "Downloading fonttools-4.55.3-cp312-cp312-win_amd64.whl (2.2 MB)\n",
      "   ---------------------------------------- 0.0/2.2 MB ? eta -:--:--\n",
      "   ---------------------------------------- 2.2/2.2 MB 15.6 MB/s eta 0:00:00\n",
      "Downloading kiwisolver-1.4.7-cp312-cp312-win_amd64.whl (55 kB)\n",
      "Downloading numpy-2.2.0-cp312-cp312-win_amd64.whl (12.6 MB)\n",
      "   ---------------------------------------- 0.0/12.6 MB ? eta -:--:--\n",
      "   --------- ------------------------------ 3.1/12.6 MB 15.3 MB/s eta 0:00:01\n",
      "   -------------------- ------------------- 6.6/12.6 MB 15.5 MB/s eta 0:00:01\n",
      "   ------------------------------ --------- 9.7/12.6 MB 15.5 MB/s eta 0:00:01\n",
      "   ---------------------------------------- 12.6/12.6 MB 14.9 MB/s eta 0:00:00\n",
      "Downloading pillow-11.0.0-cp312-cp312-win_amd64.whl (2.6 MB)\n",
      "   ---------------------------------------- 0.0/2.6 MB ? eta -:--:--\n",
      "   ---------------------------------------- 2.6/2.6 MB 14.7 MB/s eta 0:00:00\n",
      "Downloading pyparsing-3.2.0-py3-none-any.whl (106 kB)\n",
      "Downloading tzdata-2024.2-py2.py3-none-any.whl (346 kB)\n",
      "Installing collected packages: tzdata, pyparsing, pillow, numpy, kiwisolver, fonttools, cycler, pandas, contourpy, matplotlib, seaborn\n",
      "Successfully installed contourpy-1.3.1 cycler-0.12.1 fonttools-4.55.3 kiwisolver-1.4.7 matplotlib-3.9.3 numpy-2.2.0 pandas-2.2.3 pillow-11.0.0 pyparsing-3.2.0 seaborn-0.13.2 tzdata-2024.2\n",
      "Note: you may need to restart the kernel to use updated packages.\n"
     ]
    }
   ],
   "source": [
    "! pip install pandas matplotlib seaborn"
   ]
  },
  {
   "cell_type": "code",
   "execution_count": 4,
   "metadata": {},
   "outputs": [],
   "source": [
    "import pandas as pd\n",
    "import matplotlib.pyplot as plt\n",
    "import seaborn as sns\n"
   ]
  },
  {
   "cell_type": "markdown",
   "metadata": {},
   "source": [
    "## Uploading and Cleaning the Datasets"
   ]
  },
  {
   "cell_type": "markdown",
   "metadata": {},
   "source": [
    "#### **Dataset 1: Languages in Indian States**\n",
    "This dataset details the linguistic diversity in India. For this project, I chose to work with the columns State, State Language, and State Population. The data is based on last conducted census in India."
   ]
  },
  {
   "cell_type": "code",
   "execution_count": 43,
   "metadata": {},
   "outputs": [
    {
     "name": "stdout",
     "output_type": "stream",
     "text": [
      "                          State State Language  State Population\n",
      "1   andaman and nicobar islands        Bengali            380581\n",
      "2                andhra pradesh         Telugu          84580777\n",
      "3             arunachal pradesh          Nissi           1383727\n",
      "4                         assam       Assamese          31205576\n",
      "5                         bihar          Hindi         104099452\n",
      "6                    chandigarh          Hindi           1055450\n",
      "7                  chhattisgarh          Hindi          25545198\n",
      "8        dadra and nagar haveli          Bhili            343709\n",
      "9                 daman and diu       Gujarati            243247\n",
      "10                          goa        Konkani           1458545\n",
      "11                      gujarat       Gujarati          60439692\n",
      "12                      haryana          Hindi          25351462\n",
      "13             himachal pradesh          Hindi           6864602\n",
      "14            jammu and kashmir       Kashmiri          12541302\n",
      "15                    jharkhand          Hindi          32988134\n",
      "16                    karnataka        Kannada          61095297\n",
      "17                       kerala      Malayalam          33406061\n",
      "18                  lakshadweep      Malayalam             64473\n",
      "19               madhya pradesh          Hindi          72626809\n",
      "20                  maharashtra        Marathi         112374333\n",
      "21                      manipur       Manipuri           2855794\n",
      "22                    meghalaya          Khasi           2966889\n",
      "23                      mizoram         Lushai           1097206\n",
      "24                     nagaland         Konyak           1978502\n",
      "25                        delhi          Hindi          16787941\n",
      "26                       orissa           Odia          41974218\n",
      "27                   puducherry          Tamil           1247953\n",
      "28                       punjab        Punjabi          27743338\n",
      "29                    rajasthan          Hindi          68548437\n",
      "30                       sikkim         Nepali            610577\n",
      "31                   tamil nadu          Tamil          72147030\n",
      "32                      tripura        Bengali           3673917\n",
      "33                uttar pradesh          Hindi         199812341\n",
      "34                  uttarakhand          Hindi          10086292\n",
      "35                  west bengal        Bengali          91276115\n"
     ]
    }
   ],
   "source": [
    "language_df = pd.read_csv(\"C:/Users/joosa/OneDrive/Desktop/in_lang_admin1_v01.csv\")\n",
    "\n",
    "columns_keep = [\"admin1_name\", \"main_language\", \"pop_total\"]\n",
    "\n",
    "language_df = language_df[columns_keep]\n",
    "\n",
    "new_columns = {\"admin1_name\": \"State\", \"main_language\": \"State Language\", \"pop_total\": \"State Population\"}\n",
    "\n",
    "language_df.rename(columns = new_columns, inplace = True)\n",
    "\n",
    "language_df = language_df.drop(index=0)\n",
    "\n",
    "language_df[\"State\"] = language_df[\"State\"].str.strip().str.lower()\n",
    "\n",
    "language_df[\"State\"] = language_df[\"State\"].replace({\n",
    "    \"nct of delhi\": \"delhi\",\n",
    "    \"odisha\": \"orissa\",\n",
    "})\n",
    "\n",
    "language_df[\"State\"] = language_df[\"State\"].str.replace(\"&\", \"and\", regex=False)\n",
    "\n",
    "language_df[\"State Population\"] = pd.to_numeric(\n",
    "    language_df[\"State Population\"], errors=\"coerce\"\n",
    ")\n",
    "\n",
    "print(language_df)"
   ]
  },
  {
   "cell_type": "markdown",
   "metadata": {},
   "source": [
    "#### **Dataset 2: Literacy in India**\n",
    "This dataset details the literacy rate across Indian states. For this project, I worked with the columns State and Literacy. The data is based on the last conducted census in India, that is, 2011."
   ]
  },
  {
   "cell_type": "code",
   "execution_count": 7,
   "metadata": {},
   "outputs": [
    {
     "name": "stdout",
     "output_type": "stream",
     "text": [
      "                          State   Literacy\n",
      "0   andaman and nicobar islands  83.700000\n",
      "1                andhra pradesh  66.293913\n",
      "2             arunachal pradesh  63.861875\n",
      "3                         assam  72.247407\n",
      "4                         bihar  61.756316\n",
      "5                    chandigarh  86.050000\n",
      "6                  chhattisgarh  65.841667\n",
      "7        dadra and nagar haveli  76.240000\n",
      "8                 daman and diu  85.765000\n",
      "9                         delhi  86.556667\n",
      "10                          goa  88.580000\n",
      "11                      gujarat  76.389231\n",
      "12                      haryana  75.358571\n",
      "13             himachal pradesh  81.747500\n",
      "14            jammu and kashmir  65.377273\n",
      "15                    jharkhand  64.744583\n",
      "16                    karnataka  73.655667\n",
      "17                       kerala  93.695000\n",
      "18                  lakshadweep  91.850000\n",
      "19               madhya pradesh  67.683400\n",
      "20                  maharashtra  80.967143\n",
      "21                      manipur  76.360000\n",
      "22                    meghalaya  73.225714\n",
      "23                      mizoram  89.361250\n",
      "24                     nagaland  78.397273\n",
      "25                       orissa  70.839667\n",
      "26                   puducherry  87.457500\n",
      "27                       punjab  74.682500\n",
      "28                    rajasthan  64.600606\n",
      "29                       sikkim  80.167500\n",
      "30                   tamil nadu  79.337500\n",
      "31                      tripura  86.642500\n",
      "32                uttar pradesh  67.503380\n",
      "33                  uttarakhand  79.643077\n",
      "34                  west bengal  74.863684\n"
     ]
    }
   ],
   "source": [
    "literacy_df = pd.read_csv(\"C:/Users/joosa/OneDrive/Desktop/Literacy Data 2011.csv\")\n",
    "\n",
    "columns_to_keep = [\"State\", \"Literacy\"]\n",
    "\n",
    "literacy_df = literacy_df[columns_to_keep]\n",
    "\n",
    "literacy_df = literacy_df.groupby('State', as_index=False).mean()\n",
    "\n",
    "literacy_df[\"State\"] = literacy_df[\"State\"].str.strip().str.lower()\n",
    "\n",
    "print(literacy_df)"
   ]
  },
  {
   "cell_type": "markdown",
   "metadata": {},
   "source": [
    "#### **Merging Datasets**\n",
    "I merged the datasets on the common column, that is, 'State.' I previously cleaned the two datasets accordingly to ensure uniformity."
   ]
  },
  {
   "cell_type": "code",
   "execution_count": 8,
   "metadata": {},
   "outputs": [
    {
     "name": "stdout",
     "output_type": "stream",
     "text": [
      "                          State State Language State Population   Literacy\n",
      "0   andaman and nicobar islands        Bengali           380581  83.700000\n",
      "1                andhra pradesh         Telugu         84580777  66.293913\n",
      "2             arunachal pradesh          Nissi          1383727  63.861875\n",
      "3                         assam       Assamese         31205576  72.247407\n",
      "4                         bihar          Hindi        104099452  61.756316\n",
      "5                    chandigarh          Hindi          1055450  86.050000\n",
      "6                  chhattisgarh          Hindi         25545198  65.841667\n",
      "7        dadra and nagar haveli          Bhili           343709  76.240000\n",
      "8                 daman and diu       Gujarati           243247  85.765000\n",
      "9                           goa        Konkani          1458545  88.580000\n",
      "10                      gujarat       Gujarati         60439692  76.389231\n",
      "11                      haryana          Hindi         25351462  75.358571\n",
      "12             himachal pradesh          Hindi          6864602  81.747500\n",
      "13            jammu and kashmir       Kashmiri         12541302  65.377273\n",
      "14                    jharkhand          Hindi         32988134  64.744583\n",
      "15                    karnataka        Kannada         61095297  73.655667\n",
      "16                       kerala      Malayalam         33406061  93.695000\n",
      "17                  lakshadweep      Malayalam            64473  91.850000\n",
      "18               madhya pradesh          Hindi         72626809  67.683400\n",
      "19                  maharashtra        Marathi        112374333  80.967143\n",
      "20                      manipur       Manipuri          2855794  76.360000\n",
      "21                    meghalaya          Khasi          2966889  73.225714\n",
      "22                      mizoram         Lushai          1097206  89.361250\n",
      "23                     nagaland         Konyak          1978502  78.397273\n",
      "24                        delhi          Hindi         16787941  86.556667\n",
      "25                       orissa           Odia         41974218  70.839667\n",
      "26                   puducherry          Tamil          1247953  87.457500\n",
      "27                       punjab        Punjabi         27743338  74.682500\n",
      "28                    rajasthan          Hindi         68548437  64.600606\n",
      "29                       sikkim         Nepali           610577  80.167500\n",
      "30                   tamil nadu          Tamil         72147030  79.337500\n",
      "31                      tripura        Bengali          3673917  86.642500\n",
      "32                uttar pradesh          Hindi        199812341  67.503380\n",
      "33                  uttarakhand          Hindi         10086292  79.643077\n",
      "34                  west bengal        Bengali         91276115  74.863684\n"
     ]
    }
   ],
   "source": [
    "literacy_and_language_df = pd.merge(language_df, literacy_df, on='State', how='inner')\n",
    "\n",
    "print(literacy_and_language_df)"
   ]
  },
  {
   "cell_type": "markdown",
   "metadata": {},
   "source": [
    "## Data Analysis & Visualization\n",
    "For the purposes of my hypothesis and analysis question, I relied on 4 different types of data visualization methods.\n",
    "- **Scatterplot:** to identify potential trends across the languages.\n",
    "- **Regression plot:** to quantify the correlation between state population and language, while also indicating the variability.\n",
    "- **Bar Chart:** to comparison of average literacy rates across different State Languages.\n",
    "- **Bubble Chart:** to analyze the combined effect of population size and literacy rates, while grouping them visually by the language spoken."
   ]
  },
  {
   "cell_type": "code",
   "execution_count": 52,
   "metadata": {},
   "outputs": [
    {
     "name": "stdout",
     "output_type": "stream",
     "text": [
      "Collecting plotly\n",
      "  Downloading plotly-5.24.1-py3-none-any.whl.metadata (7.3 kB)\n",
      "Collecting tenacity>=6.2.0 (from plotly)\n",
      "  Downloading tenacity-9.0.0-py3-none-any.whl.metadata (1.2 kB)\n",
      "Requirement already satisfied: packaging in c:\\users\\joosa\\anaconda3\\abc\\envs\\project_3\\lib\\site-packages (from plotly) (24.2)\n",
      "Downloading plotly-5.24.1-py3-none-any.whl (19.1 MB)\n",
      "   ---------------------------------------- 0.0/19.1 MB ? eta -:--:--\n",
      "   ----- ---------------------------------- 2.6/19.1 MB 12.5 MB/s eta 0:00:02\n",
      "   --------- ------------------------------ 4.7/19.1 MB 11.4 MB/s eta 0:00:02\n",
      "   ---------------- ----------------------- 7.9/19.1 MB 12.8 MB/s eta 0:00:01\n",
      "   ---------------------- ----------------- 10.5/19.1 MB 12.8 MB/s eta 0:00:01\n",
      "   --------------------------- ------------ 13.1/19.1 MB 12.8 MB/s eta 0:00:01\n",
      "   ---------------------------------- ----- 16.3/19.1 MB 13.1 MB/s eta 0:00:01\n",
      "   ---------------------------------------  18.9/19.1 MB 13.4 MB/s eta 0:00:01\n",
      "   ---------------------------------------- 19.1/19.1 MB 13.1 MB/s eta 0:00:00\n",
      "Downloading tenacity-9.0.0-py3-none-any.whl (28 kB)\n",
      "Installing collected packages: tenacity, plotly\n",
      "Successfully installed plotly-5.24.1 tenacity-9.0.0\n",
      "Note: you may need to restart the kernel to use updated packages.\n"
     ]
    }
   ],
   "source": [
    "pip install plotly"
   ]
  },
  {
   "cell_type": "markdown",
   "metadata": {},
   "source": [
    "#### **Scatterplot**\n",
    "- This scatterplot explores the association between a State's population size and its' literacy rate.\n",
    "- There is no linear relation that can be observed between the population size and literacy rate, indicative of a wide variability.\n",
    "- Bihar and Uttar Pradesh, both Hindi-speaking states, cluster at the lower end of literacy rates despite large populations.\n",
    "- Kerala, a Malayalam-speaking state, stands out with a high literacy rate despite having a relatively smaller population.\n",
    "- Variability among Hindi-speaking states further suggests that other factors like infrastructure, governance at a state level etc. play a significant role."
   ]
  },
  {
   "cell_type": "code",
   "execution_count": 57,
   "metadata": {},
   "outputs": [
    {
     "data": {
      "application/vnd.plotly.v1+json": {
       "config": {
        "plotlyServerURL": "https://plot.ly"
       },
       "data": [
        {
         "hovertemplate": "<b>%{hovertext}</b><br><br>State Language=Bengali<br>Population=%{marker.size}<br>Literacy (%)=%{y}<extra></extra>",
         "hovertext": [
          "andaman and nicobar islands",
          "tripura",
          "west bengal"
         ],
         "legendgroup": "Bengali",
         "marker": {
          "color": "#636efa",
          "size": [
           380581,
           3673917,
           91276115
          ],
          "sizemode": "area",
          "sizeref": 499530.8525,
          "symbol": "circle"
         },
         "mode": "markers",
         "name": "Bengali",
         "orientation": "v",
         "showlegend": true,
         "type": "scatter",
         "x": [
          380581,
          3673917,
          91276115
         ],
         "xaxis": "x",
         "y": [
          83.7,
          86.6425,
          74.86368421052632
         ],
         "yaxis": "y"
        },
        {
         "hovertemplate": "<b>%{hovertext}</b><br><br>State Language=Telugu<br>Population=%{marker.size}<br>Literacy (%)=%{y}<extra></extra>",
         "hovertext": [
          "andhra pradesh"
         ],
         "legendgroup": "Telugu",
         "marker": {
          "color": "#EF553B",
          "size": [
           84580777
          ],
          "sizemode": "area",
          "sizeref": 499530.8525,
          "symbol": "circle"
         },
         "mode": "markers",
         "name": "Telugu",
         "orientation": "v",
         "showlegend": true,
         "type": "scatter",
         "x": [
          84580777
         ],
         "xaxis": "x",
         "y": [
          66.29391304347826
         ],
         "yaxis": "y"
        },
        {
         "hovertemplate": "<b>%{hovertext}</b><br><br>State Language=Nissi<br>Population=%{marker.size}<br>Literacy (%)=%{y}<extra></extra>",
         "hovertext": [
          "arunachal pradesh"
         ],
         "legendgroup": "Nissi",
         "marker": {
          "color": "#00cc96",
          "size": [
           1383727
          ],
          "sizemode": "area",
          "sizeref": 499530.8525,
          "symbol": "circle"
         },
         "mode": "markers",
         "name": "Nissi",
         "orientation": "v",
         "showlegend": true,
         "type": "scatter",
         "x": [
          1383727
         ],
         "xaxis": "x",
         "y": [
          63.861875
         ],
         "yaxis": "y"
        },
        {
         "hovertemplate": "<b>%{hovertext}</b><br><br>State Language=Assamese<br>Population=%{marker.size}<br>Literacy (%)=%{y}<extra></extra>",
         "hovertext": [
          "assam"
         ],
         "legendgroup": "Assamese",
         "marker": {
          "color": "#ab63fa",
          "size": [
           31205576
          ],
          "sizemode": "area",
          "sizeref": 499530.8525,
          "symbol": "circle"
         },
         "mode": "markers",
         "name": "Assamese",
         "orientation": "v",
         "showlegend": true,
         "type": "scatter",
         "x": [
          31205576
         ],
         "xaxis": "x",
         "y": [
          72.24740740740741
         ],
         "yaxis": "y"
        },
        {
         "hovertemplate": "<b>%{hovertext}</b><br><br>State Language=Hindi<br>Population=%{marker.size}<br>Literacy (%)=%{y}<extra></extra>",
         "hovertext": [
          "bihar",
          "chandigarh",
          "chhattisgarh",
          "haryana",
          "himachal pradesh",
          "jharkhand",
          "madhya pradesh",
          "delhi",
          "rajasthan",
          "uttar pradesh",
          "uttarakhand"
         ],
         "legendgroup": "Hindi",
         "marker": {
          "color": "#FFA15A",
          "size": [
           104099452,
           1055450,
           25545198,
           25351462,
           6864602,
           32988134,
           72626809,
           16787941,
           68548437,
           199812341,
           10086292
          ],
          "sizemode": "area",
          "sizeref": 499530.8525,
          "symbol": "circle"
         },
         "mode": "markers",
         "name": "Hindi",
         "orientation": "v",
         "showlegend": true,
         "type": "scatter",
         "x": [
          104099452,
          1055450,
          25545198,
          25351462,
          6864602,
          32988134,
          72626809,
          16787941,
          68548437,
          199812341,
          10086292
         ],
         "xaxis": "x",
         "y": [
          61.75631578947368,
          86.05,
          65.84166666666667,
          75.35857142857142,
          81.7475,
          64.74458333333332,
          67.6834,
          86.55666666666667,
          64.60060606060607,
          67.50338028169014,
          79.64307692307692
         ],
         "yaxis": "y"
        },
        {
         "hovertemplate": "<b>%{hovertext}</b><br><br>State Language=Bhili<br>Population=%{marker.size}<br>Literacy (%)=%{y}<extra></extra>",
         "hovertext": [
          "dadra and nagar haveli"
         ],
         "legendgroup": "Bhili",
         "marker": {
          "color": "#19d3f3",
          "size": [
           343709
          ],
          "sizemode": "area",
          "sizeref": 499530.8525,
          "symbol": "circle"
         },
         "mode": "markers",
         "name": "Bhili",
         "orientation": "v",
         "showlegend": true,
         "type": "scatter",
         "x": [
          343709
         ],
         "xaxis": "x",
         "y": [
          76.24
         ],
         "yaxis": "y"
        },
        {
         "hovertemplate": "<b>%{hovertext}</b><br><br>State Language=Gujarati<br>Population=%{marker.size}<br>Literacy (%)=%{y}<extra></extra>",
         "hovertext": [
          "daman and diu",
          "gujarat"
         ],
         "legendgroup": "Gujarati",
         "marker": {
          "color": "#FF6692",
          "size": [
           243247,
           60439692
          ],
          "sizemode": "area",
          "sizeref": 499530.8525,
          "symbol": "circle"
         },
         "mode": "markers",
         "name": "Gujarati",
         "orientation": "v",
         "showlegend": true,
         "type": "scatter",
         "x": [
          243247,
          60439692
         ],
         "xaxis": "x",
         "y": [
          85.76499999999999,
          76.38923076923076
         ],
         "yaxis": "y"
        },
        {
         "hovertemplate": "<b>%{hovertext}</b><br><br>State Language=Konkani<br>Population=%{marker.size}<br>Literacy (%)=%{y}<extra></extra>",
         "hovertext": [
          "goa"
         ],
         "legendgroup": "Konkani",
         "marker": {
          "color": "#B6E880",
          "size": [
           1458545
          ],
          "sizemode": "area",
          "sizeref": 499530.8525,
          "symbol": "circle"
         },
         "mode": "markers",
         "name": "Konkani",
         "orientation": "v",
         "showlegend": true,
         "type": "scatter",
         "x": [
          1458545
         ],
         "xaxis": "x",
         "y": [
          88.58
         ],
         "yaxis": "y"
        },
        {
         "hovertemplate": "<b>%{hovertext}</b><br><br>State Language=Kashmiri<br>Population=%{marker.size}<br>Literacy (%)=%{y}<extra></extra>",
         "hovertext": [
          "jammu and kashmir"
         ],
         "legendgroup": "Kashmiri",
         "marker": {
          "color": "#FF97FF",
          "size": [
           12541302
          ],
          "sizemode": "area",
          "sizeref": 499530.8525,
          "symbol": "circle"
         },
         "mode": "markers",
         "name": "Kashmiri",
         "orientation": "v",
         "showlegend": true,
         "type": "scatter",
         "x": [
          12541302
         ],
         "xaxis": "x",
         "y": [
          65.37727272727273
         ],
         "yaxis": "y"
        },
        {
         "hovertemplate": "<b>%{hovertext}</b><br><br>State Language=Kannada<br>Population=%{marker.size}<br>Literacy (%)=%{y}<extra></extra>",
         "hovertext": [
          "karnataka"
         ],
         "legendgroup": "Kannada",
         "marker": {
          "color": "#FECB52",
          "size": [
           61095297
          ],
          "sizemode": "area",
          "sizeref": 499530.8525,
          "symbol": "circle"
         },
         "mode": "markers",
         "name": "Kannada",
         "orientation": "v",
         "showlegend": true,
         "type": "scatter",
         "x": [
          61095297
         ],
         "xaxis": "x",
         "y": [
          73.65566666666668
         ],
         "yaxis": "y"
        },
        {
         "hovertemplate": "<b>%{hovertext}</b><br><br>State Language=Malayalam<br>Population=%{marker.size}<br>Literacy (%)=%{y}<extra></extra>",
         "hovertext": [
          "kerala",
          "lakshadweep"
         ],
         "legendgroup": "Malayalam",
         "marker": {
          "color": "#636efa",
          "size": [
           33406061,
           64473
          ],
          "sizemode": "area",
          "sizeref": 499530.8525,
          "symbol": "circle"
         },
         "mode": "markers",
         "name": "Malayalam",
         "orientation": "v",
         "showlegend": true,
         "type": "scatter",
         "x": [
          33406061,
          64473
         ],
         "xaxis": "x",
         "y": [
          93.69500000000001,
          91.85
         ],
         "yaxis": "y"
        },
        {
         "hovertemplate": "<b>%{hovertext}</b><br><br>State Language=Marathi<br>Population=%{marker.size}<br>Literacy (%)=%{y}<extra></extra>",
         "hovertext": [
          "maharashtra"
         ],
         "legendgroup": "Marathi",
         "marker": {
          "color": "#EF553B",
          "size": [
           112374333
          ],
          "sizemode": "area",
          "sizeref": 499530.8525,
          "symbol": "circle"
         },
         "mode": "markers",
         "name": "Marathi",
         "orientation": "v",
         "showlegend": true,
         "type": "scatter",
         "x": [
          112374333
         ],
         "xaxis": "x",
         "y": [
          80.96714285714286
         ],
         "yaxis": "y"
        },
        {
         "hovertemplate": "<b>%{hovertext}</b><br><br>State Language=Manipuri<br>Population=%{marker.size}<br>Literacy (%)=%{y}<extra></extra>",
         "hovertext": [
          "manipur"
         ],
         "legendgroup": "Manipuri",
         "marker": {
          "color": "#00cc96",
          "size": [
           2855794
          ],
          "sizemode": "area",
          "sizeref": 499530.8525,
          "symbol": "circle"
         },
         "mode": "markers",
         "name": "Manipuri",
         "orientation": "v",
         "showlegend": true,
         "type": "scatter",
         "x": [
          2855794
         ],
         "xaxis": "x",
         "y": [
          76.36
         ],
         "yaxis": "y"
        },
        {
         "hovertemplate": "<b>%{hovertext}</b><br><br>State Language=Khasi<br>Population=%{marker.size}<br>Literacy (%)=%{y}<extra></extra>",
         "hovertext": [
          "meghalaya"
         ],
         "legendgroup": "Khasi",
         "marker": {
          "color": "#ab63fa",
          "size": [
           2966889
          ],
          "sizemode": "area",
          "sizeref": 499530.8525,
          "symbol": "circle"
         },
         "mode": "markers",
         "name": "Khasi",
         "orientation": "v",
         "showlegend": true,
         "type": "scatter",
         "x": [
          2966889
         ],
         "xaxis": "x",
         "y": [
          73.22571428571429
         ],
         "yaxis": "y"
        },
        {
         "hovertemplate": "<b>%{hovertext}</b><br><br>State Language=Lushai<br>Population=%{marker.size}<br>Literacy (%)=%{y}<extra></extra>",
         "hovertext": [
          "mizoram"
         ],
         "legendgroup": "Lushai",
         "marker": {
          "color": "#FFA15A",
          "size": [
           1097206
          ],
          "sizemode": "area",
          "sizeref": 499530.8525,
          "symbol": "circle"
         },
         "mode": "markers",
         "name": "Lushai",
         "orientation": "v",
         "showlegend": true,
         "type": "scatter",
         "x": [
          1097206
         ],
         "xaxis": "x",
         "y": [
          89.36125
         ],
         "yaxis": "y"
        },
        {
         "hovertemplate": "<b>%{hovertext}</b><br><br>State Language=Konyak<br>Population=%{marker.size}<br>Literacy (%)=%{y}<extra></extra>",
         "hovertext": [
          "nagaland"
         ],
         "legendgroup": "Konyak",
         "marker": {
          "color": "#19d3f3",
          "size": [
           1978502
          ],
          "sizemode": "area",
          "sizeref": 499530.8525,
          "symbol": "circle"
         },
         "mode": "markers",
         "name": "Konyak",
         "orientation": "v",
         "showlegend": true,
         "type": "scatter",
         "x": [
          1978502
         ],
         "xaxis": "x",
         "y": [
          78.39727272727272
         ],
         "yaxis": "y"
        },
        {
         "hovertemplate": "<b>%{hovertext}</b><br><br>State Language=Odia<br>Population=%{marker.size}<br>Literacy (%)=%{y}<extra></extra>",
         "hovertext": [
          "orissa"
         ],
         "legendgroup": "Odia",
         "marker": {
          "color": "#FF6692",
          "size": [
           41974218
          ],
          "sizemode": "area",
          "sizeref": 499530.8525,
          "symbol": "circle"
         },
         "mode": "markers",
         "name": "Odia",
         "orientation": "v",
         "showlegend": true,
         "type": "scatter",
         "x": [
          41974218
         ],
         "xaxis": "x",
         "y": [
          70.83966666666667
         ],
         "yaxis": "y"
        },
        {
         "hovertemplate": "<b>%{hovertext}</b><br><br>State Language=Tamil<br>Population=%{marker.size}<br>Literacy (%)=%{y}<extra></extra>",
         "hovertext": [
          "puducherry",
          "tamil nadu"
         ],
         "legendgroup": "Tamil",
         "marker": {
          "color": "#B6E880",
          "size": [
           1247953,
           72147030
          ],
          "sizemode": "area",
          "sizeref": 499530.8525,
          "symbol": "circle"
         },
         "mode": "markers",
         "name": "Tamil",
         "orientation": "v",
         "showlegend": true,
         "type": "scatter",
         "x": [
          1247953,
          72147030
         ],
         "xaxis": "x",
         "y": [
          87.4575,
          79.3375
         ],
         "yaxis": "y"
        },
        {
         "hovertemplate": "<b>%{hovertext}</b><br><br>State Language=Punjabi<br>Population=%{marker.size}<br>Literacy (%)=%{y}<extra></extra>",
         "hovertext": [
          "punjab"
         ],
         "legendgroup": "Punjabi",
         "marker": {
          "color": "#FF97FF",
          "size": [
           27743338
          ],
          "sizemode": "area",
          "sizeref": 499530.8525,
          "symbol": "circle"
         },
         "mode": "markers",
         "name": "Punjabi",
         "orientation": "v",
         "showlegend": true,
         "type": "scatter",
         "x": [
          27743338
         ],
         "xaxis": "x",
         "y": [
          74.6825
         ],
         "yaxis": "y"
        },
        {
         "hovertemplate": "<b>%{hovertext}</b><br><br>State Language=Nepali<br>Population=%{marker.size}<br>Literacy (%)=%{y}<extra></extra>",
         "hovertext": [
          "sikkim"
         ],
         "legendgroup": "Nepali",
         "marker": {
          "color": "#FECB52",
          "size": [
           610577
          ],
          "sizemode": "area",
          "sizeref": 499530.8525,
          "symbol": "circle"
         },
         "mode": "markers",
         "name": "Nepali",
         "orientation": "v",
         "showlegend": true,
         "type": "scatter",
         "x": [
          610577
         ],
         "xaxis": "x",
         "y": [
          80.1675
         ],
         "yaxis": "y"
        }
       ],
       "layout": {
        "legend": {
         "itemsizing": "constant",
         "title": {
          "text": "State Language"
         },
         "tracegroupgap": 0
        },
        "template": {
         "data": {
          "bar": [
           {
            "error_x": {
             "color": "#2a3f5f"
            },
            "error_y": {
             "color": "#2a3f5f"
            },
            "marker": {
             "line": {
              "color": "#E5ECF6",
              "width": 0.5
             },
             "pattern": {
              "fillmode": "overlay",
              "size": 10,
              "solidity": 0.2
             }
            },
            "type": "bar"
           }
          ],
          "barpolar": [
           {
            "marker": {
             "line": {
              "color": "#E5ECF6",
              "width": 0.5
             },
             "pattern": {
              "fillmode": "overlay",
              "size": 10,
              "solidity": 0.2
             }
            },
            "type": "barpolar"
           }
          ],
          "carpet": [
           {
            "aaxis": {
             "endlinecolor": "#2a3f5f",
             "gridcolor": "white",
             "linecolor": "white",
             "minorgridcolor": "white",
             "startlinecolor": "#2a3f5f"
            },
            "baxis": {
             "endlinecolor": "#2a3f5f",
             "gridcolor": "white",
             "linecolor": "white",
             "minorgridcolor": "white",
             "startlinecolor": "#2a3f5f"
            },
            "type": "carpet"
           }
          ],
          "choropleth": [
           {
            "colorbar": {
             "outlinewidth": 0,
             "ticks": ""
            },
            "type": "choropleth"
           }
          ],
          "contour": [
           {
            "colorbar": {
             "outlinewidth": 0,
             "ticks": ""
            },
            "colorscale": [
             [
              0,
              "#0d0887"
             ],
             [
              0.1111111111111111,
              "#46039f"
             ],
             [
              0.2222222222222222,
              "#7201a8"
             ],
             [
              0.3333333333333333,
              "#9c179e"
             ],
             [
              0.4444444444444444,
              "#bd3786"
             ],
             [
              0.5555555555555556,
              "#d8576b"
             ],
             [
              0.6666666666666666,
              "#ed7953"
             ],
             [
              0.7777777777777778,
              "#fb9f3a"
             ],
             [
              0.8888888888888888,
              "#fdca26"
             ],
             [
              1,
              "#f0f921"
             ]
            ],
            "type": "contour"
           }
          ],
          "contourcarpet": [
           {
            "colorbar": {
             "outlinewidth": 0,
             "ticks": ""
            },
            "type": "contourcarpet"
           }
          ],
          "heatmap": [
           {
            "colorbar": {
             "outlinewidth": 0,
             "ticks": ""
            },
            "colorscale": [
             [
              0,
              "#0d0887"
             ],
             [
              0.1111111111111111,
              "#46039f"
             ],
             [
              0.2222222222222222,
              "#7201a8"
             ],
             [
              0.3333333333333333,
              "#9c179e"
             ],
             [
              0.4444444444444444,
              "#bd3786"
             ],
             [
              0.5555555555555556,
              "#d8576b"
             ],
             [
              0.6666666666666666,
              "#ed7953"
             ],
             [
              0.7777777777777778,
              "#fb9f3a"
             ],
             [
              0.8888888888888888,
              "#fdca26"
             ],
             [
              1,
              "#f0f921"
             ]
            ],
            "type": "heatmap"
           }
          ],
          "heatmapgl": [
           {
            "colorbar": {
             "outlinewidth": 0,
             "ticks": ""
            },
            "colorscale": [
             [
              0,
              "#0d0887"
             ],
             [
              0.1111111111111111,
              "#46039f"
             ],
             [
              0.2222222222222222,
              "#7201a8"
             ],
             [
              0.3333333333333333,
              "#9c179e"
             ],
             [
              0.4444444444444444,
              "#bd3786"
             ],
             [
              0.5555555555555556,
              "#d8576b"
             ],
             [
              0.6666666666666666,
              "#ed7953"
             ],
             [
              0.7777777777777778,
              "#fb9f3a"
             ],
             [
              0.8888888888888888,
              "#fdca26"
             ],
             [
              1,
              "#f0f921"
             ]
            ],
            "type": "heatmapgl"
           }
          ],
          "histogram": [
           {
            "marker": {
             "pattern": {
              "fillmode": "overlay",
              "size": 10,
              "solidity": 0.2
             }
            },
            "type": "histogram"
           }
          ],
          "histogram2d": [
           {
            "colorbar": {
             "outlinewidth": 0,
             "ticks": ""
            },
            "colorscale": [
             [
              0,
              "#0d0887"
             ],
             [
              0.1111111111111111,
              "#46039f"
             ],
             [
              0.2222222222222222,
              "#7201a8"
             ],
             [
              0.3333333333333333,
              "#9c179e"
             ],
             [
              0.4444444444444444,
              "#bd3786"
             ],
             [
              0.5555555555555556,
              "#d8576b"
             ],
             [
              0.6666666666666666,
              "#ed7953"
             ],
             [
              0.7777777777777778,
              "#fb9f3a"
             ],
             [
              0.8888888888888888,
              "#fdca26"
             ],
             [
              1,
              "#f0f921"
             ]
            ],
            "type": "histogram2d"
           }
          ],
          "histogram2dcontour": [
           {
            "colorbar": {
             "outlinewidth": 0,
             "ticks": ""
            },
            "colorscale": [
             [
              0,
              "#0d0887"
             ],
             [
              0.1111111111111111,
              "#46039f"
             ],
             [
              0.2222222222222222,
              "#7201a8"
             ],
             [
              0.3333333333333333,
              "#9c179e"
             ],
             [
              0.4444444444444444,
              "#bd3786"
             ],
             [
              0.5555555555555556,
              "#d8576b"
             ],
             [
              0.6666666666666666,
              "#ed7953"
             ],
             [
              0.7777777777777778,
              "#fb9f3a"
             ],
             [
              0.8888888888888888,
              "#fdca26"
             ],
             [
              1,
              "#f0f921"
             ]
            ],
            "type": "histogram2dcontour"
           }
          ],
          "mesh3d": [
           {
            "colorbar": {
             "outlinewidth": 0,
             "ticks": ""
            },
            "type": "mesh3d"
           }
          ],
          "parcoords": [
           {
            "line": {
             "colorbar": {
              "outlinewidth": 0,
              "ticks": ""
             }
            },
            "type": "parcoords"
           }
          ],
          "pie": [
           {
            "automargin": true,
            "type": "pie"
           }
          ],
          "scatter": [
           {
            "fillpattern": {
             "fillmode": "overlay",
             "size": 10,
             "solidity": 0.2
            },
            "type": "scatter"
           }
          ],
          "scatter3d": [
           {
            "line": {
             "colorbar": {
              "outlinewidth": 0,
              "ticks": ""
             }
            },
            "marker": {
             "colorbar": {
              "outlinewidth": 0,
              "ticks": ""
             }
            },
            "type": "scatter3d"
           }
          ],
          "scattercarpet": [
           {
            "marker": {
             "colorbar": {
              "outlinewidth": 0,
              "ticks": ""
             }
            },
            "type": "scattercarpet"
           }
          ],
          "scattergeo": [
           {
            "marker": {
             "colorbar": {
              "outlinewidth": 0,
              "ticks": ""
             }
            },
            "type": "scattergeo"
           }
          ],
          "scattergl": [
           {
            "marker": {
             "colorbar": {
              "outlinewidth": 0,
              "ticks": ""
             }
            },
            "type": "scattergl"
           }
          ],
          "scattermapbox": [
           {
            "marker": {
             "colorbar": {
              "outlinewidth": 0,
              "ticks": ""
             }
            },
            "type": "scattermapbox"
           }
          ],
          "scatterpolar": [
           {
            "marker": {
             "colorbar": {
              "outlinewidth": 0,
              "ticks": ""
             }
            },
            "type": "scatterpolar"
           }
          ],
          "scatterpolargl": [
           {
            "marker": {
             "colorbar": {
              "outlinewidth": 0,
              "ticks": ""
             }
            },
            "type": "scatterpolargl"
           }
          ],
          "scatterternary": [
           {
            "marker": {
             "colorbar": {
              "outlinewidth": 0,
              "ticks": ""
             }
            },
            "type": "scatterternary"
           }
          ],
          "surface": [
           {
            "colorbar": {
             "outlinewidth": 0,
             "ticks": ""
            },
            "colorscale": [
             [
              0,
              "#0d0887"
             ],
             [
              0.1111111111111111,
              "#46039f"
             ],
             [
              0.2222222222222222,
              "#7201a8"
             ],
             [
              0.3333333333333333,
              "#9c179e"
             ],
             [
              0.4444444444444444,
              "#bd3786"
             ],
             [
              0.5555555555555556,
              "#d8576b"
             ],
             [
              0.6666666666666666,
              "#ed7953"
             ],
             [
              0.7777777777777778,
              "#fb9f3a"
             ],
             [
              0.8888888888888888,
              "#fdca26"
             ],
             [
              1,
              "#f0f921"
             ]
            ],
            "type": "surface"
           }
          ],
          "table": [
           {
            "cells": {
             "fill": {
              "color": "#EBF0F8"
             },
             "line": {
              "color": "white"
             }
            },
            "header": {
             "fill": {
              "color": "#C8D4E3"
             },
             "line": {
              "color": "white"
             }
            },
            "type": "table"
           }
          ]
         },
         "layout": {
          "annotationdefaults": {
           "arrowcolor": "#2a3f5f",
           "arrowhead": 0,
           "arrowwidth": 1
          },
          "autotypenumbers": "strict",
          "coloraxis": {
           "colorbar": {
            "outlinewidth": 0,
            "ticks": ""
           }
          },
          "colorscale": {
           "diverging": [
            [
             0,
             "#8e0152"
            ],
            [
             0.1,
             "#c51b7d"
            ],
            [
             0.2,
             "#de77ae"
            ],
            [
             0.3,
             "#f1b6da"
            ],
            [
             0.4,
             "#fde0ef"
            ],
            [
             0.5,
             "#f7f7f7"
            ],
            [
             0.6,
             "#e6f5d0"
            ],
            [
             0.7,
             "#b8e186"
            ],
            [
             0.8,
             "#7fbc41"
            ],
            [
             0.9,
             "#4d9221"
            ],
            [
             1,
             "#276419"
            ]
           ],
           "sequential": [
            [
             0,
             "#0d0887"
            ],
            [
             0.1111111111111111,
             "#46039f"
            ],
            [
             0.2222222222222222,
             "#7201a8"
            ],
            [
             0.3333333333333333,
             "#9c179e"
            ],
            [
             0.4444444444444444,
             "#bd3786"
            ],
            [
             0.5555555555555556,
             "#d8576b"
            ],
            [
             0.6666666666666666,
             "#ed7953"
            ],
            [
             0.7777777777777778,
             "#fb9f3a"
            ],
            [
             0.8888888888888888,
             "#fdca26"
            ],
            [
             1,
             "#f0f921"
            ]
           ],
           "sequentialminus": [
            [
             0,
             "#0d0887"
            ],
            [
             0.1111111111111111,
             "#46039f"
            ],
            [
             0.2222222222222222,
             "#7201a8"
            ],
            [
             0.3333333333333333,
             "#9c179e"
            ],
            [
             0.4444444444444444,
             "#bd3786"
            ],
            [
             0.5555555555555556,
             "#d8576b"
            ],
            [
             0.6666666666666666,
             "#ed7953"
            ],
            [
             0.7777777777777778,
             "#fb9f3a"
            ],
            [
             0.8888888888888888,
             "#fdca26"
            ],
            [
             1,
             "#f0f921"
            ]
           ]
          },
          "colorway": [
           "#636efa",
           "#EF553B",
           "#00cc96",
           "#ab63fa",
           "#FFA15A",
           "#19d3f3",
           "#FF6692",
           "#B6E880",
           "#FF97FF",
           "#FECB52"
          ],
          "font": {
           "color": "#2a3f5f"
          },
          "geo": {
           "bgcolor": "white",
           "lakecolor": "white",
           "landcolor": "#E5ECF6",
           "showlakes": true,
           "showland": true,
           "subunitcolor": "white"
          },
          "hoverlabel": {
           "align": "left"
          },
          "hovermode": "closest",
          "mapbox": {
           "style": "light"
          },
          "paper_bgcolor": "white",
          "plot_bgcolor": "#E5ECF6",
          "polar": {
           "angularaxis": {
            "gridcolor": "white",
            "linecolor": "white",
            "ticks": ""
           },
           "bgcolor": "#E5ECF6",
           "radialaxis": {
            "gridcolor": "white",
            "linecolor": "white",
            "ticks": ""
           }
          },
          "scene": {
           "xaxis": {
            "backgroundcolor": "#E5ECF6",
            "gridcolor": "white",
            "gridwidth": 2,
            "linecolor": "white",
            "showbackground": true,
            "ticks": "",
            "zerolinecolor": "white"
           },
           "yaxis": {
            "backgroundcolor": "#E5ECF6",
            "gridcolor": "white",
            "gridwidth": 2,
            "linecolor": "white",
            "showbackground": true,
            "ticks": "",
            "zerolinecolor": "white"
           },
           "zaxis": {
            "backgroundcolor": "#E5ECF6",
            "gridcolor": "white",
            "gridwidth": 2,
            "linecolor": "white",
            "showbackground": true,
            "ticks": "",
            "zerolinecolor": "white"
           }
          },
          "shapedefaults": {
           "line": {
            "color": "#2a3f5f"
           }
          },
          "ternary": {
           "aaxis": {
            "gridcolor": "white",
            "linecolor": "white",
            "ticks": ""
           },
           "baxis": {
            "gridcolor": "white",
            "linecolor": "white",
            "ticks": ""
           },
           "bgcolor": "#E5ECF6",
           "caxis": {
            "gridcolor": "white",
            "linecolor": "white",
            "ticks": ""
           }
          },
          "title": {
           "x": 0.05
          },
          "xaxis": {
           "automargin": true,
           "gridcolor": "white",
           "linecolor": "white",
           "ticks": "",
           "title": {
            "standoff": 15
           },
           "zerolinecolor": "white",
           "zerolinewidth": 2
          },
          "yaxis": {
           "automargin": true,
           "gridcolor": "white",
           "linecolor": "white",
           "ticks": "",
           "title": {
            "standoff": 15
           },
           "zerolinecolor": "white",
           "zerolinewidth": 2
          }
         }
        },
        "title": {
         "text": "Interactive Scatter Plot: Population vs Literacy Rate"
        },
        "xaxis": {
         "anchor": "y",
         "domain": [
          0,
          1
         ],
         "title": {
          "text": "Population"
         }
        },
        "yaxis": {
         "anchor": "x",
         "domain": [
          0,
          1
         ],
         "title": {
          "text": "Literacy (%)"
         }
        }
       }
      }
     },
     "metadata": {},
     "output_type": "display_data"
    }
   ],
   "source": [
    "import plotly.express as px\n",
    "\n",
    "fig = px.scatter(\n",
    "    literacy_and_language_df,\n",
    "    x=\"State Population\",\n",
    "    y=\"Literacy\",\n",
    "    size=\"State Population\",\n",
    "    color=\"State Language\",\n",
    "    hover_name=\"State\",\n",
    "    title=\"Interactive Scatter Plot: Population vs Literacy Rate\",\n",
    "    labels={\"State Population\": \"Population\", \"Literacy\": \"Literacy (%)\"}\n",
    ")\n",
    "\n",
    "fig.show()"
   ]
  },
  {
   "cell_type": "markdown",
   "metadata": {},
   "source": [
    "#### **Regression Plot**\n",
    "- Languages such as Konkani and Malayalam, associated with smaller states (e.g., Kerala, Goa), show nearly flat regression lines, suggesting little or no correlation between population size and literacy rate in these regions.\n",
    "- On the other hand, States (like, Uttar Pradesh and Maharashtra) significantly influence regression lines, leading to exaggerated slopes.\n",
    "- Hindi speaking states exhibit wide variablity, where some States with smaller population sizes (like, Haryana) have a relatively high rate fo literacy in comparison to other States with bigger population sizes."
   ]
  },
  {
   "cell_type": "code",
   "execution_count": 63,
   "metadata": {},
   "outputs": [
    {
     "name": "stdout",
     "output_type": "stream",
     "text": [
      "Collecting scikit-learn\n",
      "  Downloading scikit_learn-1.6.0-cp312-cp312-win_amd64.whl.metadata (15 kB)\n",
      "Requirement already satisfied: numpy>=1.19.5 in c:\\users\\joosa\\anaconda3\\abc\\envs\\project_3\\lib\\site-packages (from scikit-learn) (2.2.0)\n",
      "Collecting scipy>=1.6.0 (from scikit-learn)\n",
      "  Downloading scipy-1.14.1-cp312-cp312-win_amd64.whl.metadata (60 kB)\n",
      "Collecting joblib>=1.2.0 (from scikit-learn)\n",
      "  Downloading joblib-1.4.2-py3-none-any.whl.metadata (5.4 kB)\n",
      "Collecting threadpoolctl>=3.1.0 (from scikit-learn)\n",
      "  Downloading threadpoolctl-3.5.0-py3-none-any.whl.metadata (13 kB)\n",
      "Downloading scikit_learn-1.6.0-cp312-cp312-win_amd64.whl (11.1 MB)\n",
      "   ---------------------------------------- 0.0/11.1 MB ? eta -:--:--\n",
      "   ---------- ----------------------------- 2.9/11.1 MB 15.2 MB/s eta 0:00:01\n",
      "   ---------------------- ----------------- 6.3/11.1 MB 15.5 MB/s eta 0:00:01\n",
      "   --------------------------------- ------ 9.4/11.1 MB 15.5 MB/s eta 0:00:01\n",
      "   ---------------------------------------- 11.1/11.1 MB 14.8 MB/s eta 0:00:00\n",
      "Downloading joblib-1.4.2-py3-none-any.whl (301 kB)\n",
      "Downloading scipy-1.14.1-cp312-cp312-win_amd64.whl (44.5 MB)\n",
      "   ---------------------------------------- 0.0/44.5 MB ? eta -:--:--\n",
      "   -- ------------------------------------- 2.6/44.5 MB 15.1 MB/s eta 0:00:03\n",
      "   ---- ----------------------------------- 5.5/44.5 MB 13.4 MB/s eta 0:00:03\n",
      "   -------- ------------------------------- 9.2/44.5 MB 14.6 MB/s eta 0:00:03\n",
      "   ----------- ---------------------------- 12.3/44.5 MB 14.9 MB/s eta 0:00:03\n",
      "   ------------- -------------------------- 15.5/44.5 MB 15.0 MB/s eta 0:00:02\n",
      "   ---------------- ----------------------- 18.9/44.5 MB 15.1 MB/s eta 0:00:02\n",
      "   ------------------- -------------------- 22.0/44.5 MB 15.1 MB/s eta 0:00:02\n",
      "   ---------------------- ----------------- 25.4/44.5 MB 15.2 MB/s eta 0:00:02\n",
      "   ------------------------- -------------- 28.6/44.5 MB 15.1 MB/s eta 0:00:02\n",
      "   ---------------------------- ----------- 31.7/44.5 MB 15.1 MB/s eta 0:00:01\n",
      "   ------------------------------- -------- 35.1/44.5 MB 15.3 MB/s eta 0:00:01\n",
      "   ---------------------------------- ----- 38.5/44.5 MB 15.3 MB/s eta 0:00:01\n",
      "   ------------------------------------- -- 41.7/44.5 MB 15.3 MB/s eta 0:00:01\n",
      "   ---------------------------------------  44.3/44.5 MB 15.2 MB/s eta 0:00:01\n",
      "   ---------------------------------------- 44.5/44.5 MB 14.7 MB/s eta 0:00:00\n",
      "Downloading threadpoolctl-3.5.0-py3-none-any.whl (18 kB)\n",
      "Installing collected packages: threadpoolctl, scipy, joblib, scikit-learn\n",
      "Successfully installed joblib-1.4.2 scikit-learn-1.6.0 scipy-1.14.1 threadpoolctl-3.5.0\n",
      "Note: you may need to restart the kernel to use updated packages.\n"
     ]
    }
   ],
   "source": [
    "pip install scikit-learn"
   ]
  },
  {
   "cell_type": "code",
   "execution_count": 71,
   "metadata": {},
   "outputs": [
    {
     "data": {
      "application/vnd.plotly.v1+json": {
       "config": {
        "plotlyServerURL": "https://plot.ly"
       },
       "data": [
        {
         "marker": {
          "size": 8
         },
         "mode": "markers",
         "name": "Bengali - Data",
         "text": [
          "andaman and nicobar islands",
          "tripura",
          "west bengal"
         ],
         "type": "scatter",
         "x": [
          380581,
          3673917,
          91276115
         ],
         "y": [
          83.7,
          86.6425,
          74.86368421052632
         ]
        },
        {
         "line": {
          "dash": "dash"
         },
         "mode": "lines",
         "name": "Bengali - Regression",
         "type": "scatter",
         "x": [
          380581,
          3673917,
          91276115
         ],
         "y": [
          85.32911009571733,
          84.95214478659524,
          74.92492932821378
         ]
        },
        {
         "marker": {
          "size": 8
         },
         "mode": "markers",
         "name": "Telugu - Data",
         "text": [
          "andhra pradesh"
         ],
         "type": "scatter",
         "x": [
          84580777
         ],
         "y": [
          66.29391304347826
         ]
        },
        {
         "marker": {
          "size": 8
         },
         "mode": "markers",
         "name": "Nissi - Data",
         "text": [
          "arunachal pradesh"
         ],
         "type": "scatter",
         "x": [
          1383727
         ],
         "y": [
          63.861875
         ]
        },
        {
         "marker": {
          "size": 8
         },
         "mode": "markers",
         "name": "Assamese - Data",
         "text": [
          "assam"
         ],
         "type": "scatter",
         "x": [
          31205576
         ],
         "y": [
          72.24740740740741
         ]
        },
        {
         "marker": {
          "size": 8
         },
         "mode": "markers",
         "name": "Hindi - Data",
         "text": [
          "bihar",
          "chandigarh",
          "chhattisgarh",
          "haryana",
          "himachal pradesh",
          "jharkhand",
          "madhya pradesh",
          "delhi",
          "rajasthan",
          "uttar pradesh",
          "uttarakhand"
         ],
         "type": "scatter",
         "x": [
          104099452,
          1055450,
          25545198,
          25351462,
          6864602,
          32988134,
          72626809,
          16787941,
          68548437,
          199812341,
          10086292
         ],
         "y": [
          61.75631578947368,
          86.05,
          65.84166666666667,
          75.35857142857142,
          81.7475,
          64.74458333333332,
          67.6834,
          86.55666666666667,
          64.60060606060607,
          67.50338028169014,
          79.64307692307692
         ]
        },
        {
         "line": {
          "dash": "dash"
         },
         "mode": "lines",
         "name": "Hindi - Regression",
         "type": "scatter",
         "x": [
          104099452,
          1055450,
          25545198,
          25351462,
          6864602,
          32988134,
          72626809,
          16787941,
          68548437,
          199812341,
          10086292
         ],
         "y": [
          68.01311679783333,
          77.46822853658892,
          75.22109819130239,
          75.2388750195725,
          76.9351923559152,
          74.53814925513426,
          70.90098363630263,
          76.02464659638083,
          71.27520690232264,
          59.23069334019131,
          76.63957651854088
         ]
        },
        {
         "marker": {
          "size": 8
         },
         "mode": "markers",
         "name": "Bhili - Data",
         "text": [
          "dadra and nagar haveli"
         ],
         "type": "scatter",
         "x": [
          343709
         ],
         "y": [
          76.24
         ]
        },
        {
         "marker": {
          "size": 8
         },
         "mode": "markers",
         "name": "Gujarati - Data",
         "text": [
          "daman and diu",
          "gujarat"
         ],
         "type": "scatter",
         "x": [
          243247,
          60439692
         ],
         "y": [
          85.76499999999999,
          76.38923076923076
         ]
        },
        {
         "line": {
          "dash": "dash"
         },
         "mode": "lines",
         "name": "Gujarati - Regression",
         "type": "scatter",
         "x": [
          243247,
          60439692
         ],
         "y": [
          85.765,
          76.38923076923078
         ]
        },
        {
         "marker": {
          "size": 8
         },
         "mode": "markers",
         "name": "Konkani - Data",
         "text": [
          "goa"
         ],
         "type": "scatter",
         "x": [
          1458545
         ],
         "y": [
          88.58
         ]
        },
        {
         "marker": {
          "size": 8
         },
         "mode": "markers",
         "name": "Kashmiri - Data",
         "text": [
          "jammu and kashmir"
         ],
         "type": "scatter",
         "x": [
          12541302
         ],
         "y": [
          65.37727272727273
         ]
        },
        {
         "marker": {
          "size": 8
         },
         "mode": "markers",
         "name": "Kannada - Data",
         "text": [
          "karnataka"
         ],
         "type": "scatter",
         "x": [
          61095297
         ],
         "y": [
          73.65566666666668
         ]
        },
        {
         "marker": {
          "size": 8
         },
         "mode": "markers",
         "name": "Malayalam - Data",
         "text": [
          "kerala",
          "lakshadweep"
         ],
         "type": "scatter",
         "x": [
          33406061,
          64473
         ],
         "y": [
          93.69500000000001,
          91.85
         ]
        },
        {
         "line": {
          "dash": "dash"
         },
         "mode": "lines",
         "name": "Malayalam - Regression",
         "type": "scatter",
         "x": [
          33406061,
          64473
         ],
         "y": [
          93.69500000000001,
          91.85
         ]
        },
        {
         "marker": {
          "size": 8
         },
         "mode": "markers",
         "name": "Marathi - Data",
         "text": [
          "maharashtra"
         ],
         "type": "scatter",
         "x": [
          112374333
         ],
         "y": [
          80.96714285714286
         ]
        },
        {
         "marker": {
          "size": 8
         },
         "mode": "markers",
         "name": "Manipuri - Data",
         "text": [
          "manipur"
         ],
         "type": "scatter",
         "x": [
          2855794
         ],
         "y": [
          76.36
         ]
        },
        {
         "marker": {
          "size": 8
         },
         "mode": "markers",
         "name": "Khasi - Data",
         "text": [
          "meghalaya"
         ],
         "type": "scatter",
         "x": [
          2966889
         ],
         "y": [
          73.22571428571429
         ]
        },
        {
         "marker": {
          "size": 8
         },
         "mode": "markers",
         "name": "Lushai - Data",
         "text": [
          "mizoram"
         ],
         "type": "scatter",
         "x": [
          1097206
         ],
         "y": [
          89.36125
         ]
        },
        {
         "marker": {
          "size": 8
         },
         "mode": "markers",
         "name": "Konyak - Data",
         "text": [
          "nagaland"
         ],
         "type": "scatter",
         "x": [
          1978502
         ],
         "y": [
          78.39727272727272
         ]
        },
        {
         "marker": {
          "size": 8
         },
         "mode": "markers",
         "name": "Odia - Data",
         "text": [
          "orissa"
         ],
         "type": "scatter",
         "x": [
          41974218
         ],
         "y": [
          70.83966666666667
         ]
        },
        {
         "marker": {
          "size": 8
         },
         "mode": "markers",
         "name": "Tamil - Data",
         "text": [
          "puducherry",
          "tamil nadu"
         ],
         "type": "scatter",
         "x": [
          1247953,
          72147030
         ],
         "y": [
          87.4575,
          79.3375
         ]
        },
        {
         "line": {
          "dash": "dash"
         },
         "mode": "lines",
         "name": "Tamil - Regression",
         "type": "scatter",
         "x": [
          1247953,
          72147030
         ],
         "y": [
          87.4575,
          79.3375
         ]
        },
        {
         "marker": {
          "size": 8
         },
         "mode": "markers",
         "name": "Punjabi - Data",
         "text": [
          "punjab"
         ],
         "type": "scatter",
         "x": [
          27743338
         ],
         "y": [
          74.6825
         ]
        },
        {
         "marker": {
          "size": 8
         },
         "mode": "markers",
         "name": "Nepali - Data",
         "text": [
          "sikkim"
         ],
         "type": "scatter",
         "x": [
          610577
         ],
         "y": [
          80.1675
         ]
        }
       ],
       "layout": {
        "legend": {
         "title": {
          "text": "Legend"
         }
        },
        "template": {
         "data": {
          "bar": [
           {
            "error_x": {
             "color": "#2a3f5f"
            },
            "error_y": {
             "color": "#2a3f5f"
            },
            "marker": {
             "line": {
              "color": "white",
              "width": 0.5
             },
             "pattern": {
              "fillmode": "overlay",
              "size": 10,
              "solidity": 0.2
             }
            },
            "type": "bar"
           }
          ],
          "barpolar": [
           {
            "marker": {
             "line": {
              "color": "white",
              "width": 0.5
             },
             "pattern": {
              "fillmode": "overlay",
              "size": 10,
              "solidity": 0.2
             }
            },
            "type": "barpolar"
           }
          ],
          "carpet": [
           {
            "aaxis": {
             "endlinecolor": "#2a3f5f",
             "gridcolor": "#C8D4E3",
             "linecolor": "#C8D4E3",
             "minorgridcolor": "#C8D4E3",
             "startlinecolor": "#2a3f5f"
            },
            "baxis": {
             "endlinecolor": "#2a3f5f",
             "gridcolor": "#C8D4E3",
             "linecolor": "#C8D4E3",
             "minorgridcolor": "#C8D4E3",
             "startlinecolor": "#2a3f5f"
            },
            "type": "carpet"
           }
          ],
          "choropleth": [
           {
            "colorbar": {
             "outlinewidth": 0,
             "ticks": ""
            },
            "type": "choropleth"
           }
          ],
          "contour": [
           {
            "colorbar": {
             "outlinewidth": 0,
             "ticks": ""
            },
            "colorscale": [
             [
              0,
              "#0d0887"
             ],
             [
              0.1111111111111111,
              "#46039f"
             ],
             [
              0.2222222222222222,
              "#7201a8"
             ],
             [
              0.3333333333333333,
              "#9c179e"
             ],
             [
              0.4444444444444444,
              "#bd3786"
             ],
             [
              0.5555555555555556,
              "#d8576b"
             ],
             [
              0.6666666666666666,
              "#ed7953"
             ],
             [
              0.7777777777777778,
              "#fb9f3a"
             ],
             [
              0.8888888888888888,
              "#fdca26"
             ],
             [
              1,
              "#f0f921"
             ]
            ],
            "type": "contour"
           }
          ],
          "contourcarpet": [
           {
            "colorbar": {
             "outlinewidth": 0,
             "ticks": ""
            },
            "type": "contourcarpet"
           }
          ],
          "heatmap": [
           {
            "colorbar": {
             "outlinewidth": 0,
             "ticks": ""
            },
            "colorscale": [
             [
              0,
              "#0d0887"
             ],
             [
              0.1111111111111111,
              "#46039f"
             ],
             [
              0.2222222222222222,
              "#7201a8"
             ],
             [
              0.3333333333333333,
              "#9c179e"
             ],
             [
              0.4444444444444444,
              "#bd3786"
             ],
             [
              0.5555555555555556,
              "#d8576b"
             ],
             [
              0.6666666666666666,
              "#ed7953"
             ],
             [
              0.7777777777777778,
              "#fb9f3a"
             ],
             [
              0.8888888888888888,
              "#fdca26"
             ],
             [
              1,
              "#f0f921"
             ]
            ],
            "type": "heatmap"
           }
          ],
          "heatmapgl": [
           {
            "colorbar": {
             "outlinewidth": 0,
             "ticks": ""
            },
            "colorscale": [
             [
              0,
              "#0d0887"
             ],
             [
              0.1111111111111111,
              "#46039f"
             ],
             [
              0.2222222222222222,
              "#7201a8"
             ],
             [
              0.3333333333333333,
              "#9c179e"
             ],
             [
              0.4444444444444444,
              "#bd3786"
             ],
             [
              0.5555555555555556,
              "#d8576b"
             ],
             [
              0.6666666666666666,
              "#ed7953"
             ],
             [
              0.7777777777777778,
              "#fb9f3a"
             ],
             [
              0.8888888888888888,
              "#fdca26"
             ],
             [
              1,
              "#f0f921"
             ]
            ],
            "type": "heatmapgl"
           }
          ],
          "histogram": [
           {
            "marker": {
             "pattern": {
              "fillmode": "overlay",
              "size": 10,
              "solidity": 0.2
             }
            },
            "type": "histogram"
           }
          ],
          "histogram2d": [
           {
            "colorbar": {
             "outlinewidth": 0,
             "ticks": ""
            },
            "colorscale": [
             [
              0,
              "#0d0887"
             ],
             [
              0.1111111111111111,
              "#46039f"
             ],
             [
              0.2222222222222222,
              "#7201a8"
             ],
             [
              0.3333333333333333,
              "#9c179e"
             ],
             [
              0.4444444444444444,
              "#bd3786"
             ],
             [
              0.5555555555555556,
              "#d8576b"
             ],
             [
              0.6666666666666666,
              "#ed7953"
             ],
             [
              0.7777777777777778,
              "#fb9f3a"
             ],
             [
              0.8888888888888888,
              "#fdca26"
             ],
             [
              1,
              "#f0f921"
             ]
            ],
            "type": "histogram2d"
           }
          ],
          "histogram2dcontour": [
           {
            "colorbar": {
             "outlinewidth": 0,
             "ticks": ""
            },
            "colorscale": [
             [
              0,
              "#0d0887"
             ],
             [
              0.1111111111111111,
              "#46039f"
             ],
             [
              0.2222222222222222,
              "#7201a8"
             ],
             [
              0.3333333333333333,
              "#9c179e"
             ],
             [
              0.4444444444444444,
              "#bd3786"
             ],
             [
              0.5555555555555556,
              "#d8576b"
             ],
             [
              0.6666666666666666,
              "#ed7953"
             ],
             [
              0.7777777777777778,
              "#fb9f3a"
             ],
             [
              0.8888888888888888,
              "#fdca26"
             ],
             [
              1,
              "#f0f921"
             ]
            ],
            "type": "histogram2dcontour"
           }
          ],
          "mesh3d": [
           {
            "colorbar": {
             "outlinewidth": 0,
             "ticks": ""
            },
            "type": "mesh3d"
           }
          ],
          "parcoords": [
           {
            "line": {
             "colorbar": {
              "outlinewidth": 0,
              "ticks": ""
             }
            },
            "type": "parcoords"
           }
          ],
          "pie": [
           {
            "automargin": true,
            "type": "pie"
           }
          ],
          "scatter": [
           {
            "fillpattern": {
             "fillmode": "overlay",
             "size": 10,
             "solidity": 0.2
            },
            "type": "scatter"
           }
          ],
          "scatter3d": [
           {
            "line": {
             "colorbar": {
              "outlinewidth": 0,
              "ticks": ""
             }
            },
            "marker": {
             "colorbar": {
              "outlinewidth": 0,
              "ticks": ""
             }
            },
            "type": "scatter3d"
           }
          ],
          "scattercarpet": [
           {
            "marker": {
             "colorbar": {
              "outlinewidth": 0,
              "ticks": ""
             }
            },
            "type": "scattercarpet"
           }
          ],
          "scattergeo": [
           {
            "marker": {
             "colorbar": {
              "outlinewidth": 0,
              "ticks": ""
             }
            },
            "type": "scattergeo"
           }
          ],
          "scattergl": [
           {
            "marker": {
             "colorbar": {
              "outlinewidth": 0,
              "ticks": ""
             }
            },
            "type": "scattergl"
           }
          ],
          "scattermapbox": [
           {
            "marker": {
             "colorbar": {
              "outlinewidth": 0,
              "ticks": ""
             }
            },
            "type": "scattermapbox"
           }
          ],
          "scatterpolar": [
           {
            "marker": {
             "colorbar": {
              "outlinewidth": 0,
              "ticks": ""
             }
            },
            "type": "scatterpolar"
           }
          ],
          "scatterpolargl": [
           {
            "marker": {
             "colorbar": {
              "outlinewidth": 0,
              "ticks": ""
             }
            },
            "type": "scatterpolargl"
           }
          ],
          "scatterternary": [
           {
            "marker": {
             "colorbar": {
              "outlinewidth": 0,
              "ticks": ""
             }
            },
            "type": "scatterternary"
           }
          ],
          "surface": [
           {
            "colorbar": {
             "outlinewidth": 0,
             "ticks": ""
            },
            "colorscale": [
             [
              0,
              "#0d0887"
             ],
             [
              0.1111111111111111,
              "#46039f"
             ],
             [
              0.2222222222222222,
              "#7201a8"
             ],
             [
              0.3333333333333333,
              "#9c179e"
             ],
             [
              0.4444444444444444,
              "#bd3786"
             ],
             [
              0.5555555555555556,
              "#d8576b"
             ],
             [
              0.6666666666666666,
              "#ed7953"
             ],
             [
              0.7777777777777778,
              "#fb9f3a"
             ],
             [
              0.8888888888888888,
              "#fdca26"
             ],
             [
              1,
              "#f0f921"
             ]
            ],
            "type": "surface"
           }
          ],
          "table": [
           {
            "cells": {
             "fill": {
              "color": "#EBF0F8"
             },
             "line": {
              "color": "white"
             }
            },
            "header": {
             "fill": {
              "color": "#C8D4E3"
             },
             "line": {
              "color": "white"
             }
            },
            "type": "table"
           }
          ]
         },
         "layout": {
          "annotationdefaults": {
           "arrowcolor": "#2a3f5f",
           "arrowhead": 0,
           "arrowwidth": 1
          },
          "autotypenumbers": "strict",
          "coloraxis": {
           "colorbar": {
            "outlinewidth": 0,
            "ticks": ""
           }
          },
          "colorscale": {
           "diverging": [
            [
             0,
             "#8e0152"
            ],
            [
             0.1,
             "#c51b7d"
            ],
            [
             0.2,
             "#de77ae"
            ],
            [
             0.3,
             "#f1b6da"
            ],
            [
             0.4,
             "#fde0ef"
            ],
            [
             0.5,
             "#f7f7f7"
            ],
            [
             0.6,
             "#e6f5d0"
            ],
            [
             0.7,
             "#b8e186"
            ],
            [
             0.8,
             "#7fbc41"
            ],
            [
             0.9,
             "#4d9221"
            ],
            [
             1,
             "#276419"
            ]
           ],
           "sequential": [
            [
             0,
             "#0d0887"
            ],
            [
             0.1111111111111111,
             "#46039f"
            ],
            [
             0.2222222222222222,
             "#7201a8"
            ],
            [
             0.3333333333333333,
             "#9c179e"
            ],
            [
             0.4444444444444444,
             "#bd3786"
            ],
            [
             0.5555555555555556,
             "#d8576b"
            ],
            [
             0.6666666666666666,
             "#ed7953"
            ],
            [
             0.7777777777777778,
             "#fb9f3a"
            ],
            [
             0.8888888888888888,
             "#fdca26"
            ],
            [
             1,
             "#f0f921"
            ]
           ],
           "sequentialminus": [
            [
             0,
             "#0d0887"
            ],
            [
             0.1111111111111111,
             "#46039f"
            ],
            [
             0.2222222222222222,
             "#7201a8"
            ],
            [
             0.3333333333333333,
             "#9c179e"
            ],
            [
             0.4444444444444444,
             "#bd3786"
            ],
            [
             0.5555555555555556,
             "#d8576b"
            ],
            [
             0.6666666666666666,
             "#ed7953"
            ],
            [
             0.7777777777777778,
             "#fb9f3a"
            ],
            [
             0.8888888888888888,
             "#fdca26"
            ],
            [
             1,
             "#f0f921"
            ]
           ]
          },
          "colorway": [
           "#636efa",
           "#EF553B",
           "#00cc96",
           "#ab63fa",
           "#FFA15A",
           "#19d3f3",
           "#FF6692",
           "#B6E880",
           "#FF97FF",
           "#FECB52"
          ],
          "font": {
           "color": "#2a3f5f"
          },
          "geo": {
           "bgcolor": "white",
           "lakecolor": "white",
           "landcolor": "white",
           "showlakes": true,
           "showland": true,
           "subunitcolor": "#C8D4E3"
          },
          "hoverlabel": {
           "align": "left"
          },
          "hovermode": "closest",
          "mapbox": {
           "style": "light"
          },
          "paper_bgcolor": "white",
          "plot_bgcolor": "white",
          "polar": {
           "angularaxis": {
            "gridcolor": "#EBF0F8",
            "linecolor": "#EBF0F8",
            "ticks": ""
           },
           "bgcolor": "white",
           "radialaxis": {
            "gridcolor": "#EBF0F8",
            "linecolor": "#EBF0F8",
            "ticks": ""
           }
          },
          "scene": {
           "xaxis": {
            "backgroundcolor": "white",
            "gridcolor": "#DFE8F3",
            "gridwidth": 2,
            "linecolor": "#EBF0F8",
            "showbackground": true,
            "ticks": "",
            "zerolinecolor": "#EBF0F8"
           },
           "yaxis": {
            "backgroundcolor": "white",
            "gridcolor": "#DFE8F3",
            "gridwidth": 2,
            "linecolor": "#EBF0F8",
            "showbackground": true,
            "ticks": "",
            "zerolinecolor": "#EBF0F8"
           },
           "zaxis": {
            "backgroundcolor": "white",
            "gridcolor": "#DFE8F3",
            "gridwidth": 2,
            "linecolor": "#EBF0F8",
            "showbackground": true,
            "ticks": "",
            "zerolinecolor": "#EBF0F8"
           }
          },
          "shapedefaults": {
           "line": {
            "color": "#2a3f5f"
           }
          },
          "ternary": {
           "aaxis": {
            "gridcolor": "#DFE8F3",
            "linecolor": "#A2B1C6",
            "ticks": ""
           },
           "baxis": {
            "gridcolor": "#DFE8F3",
            "linecolor": "#A2B1C6",
            "ticks": ""
           },
           "bgcolor": "white",
           "caxis": {
            "gridcolor": "#DFE8F3",
            "linecolor": "#A2B1C6",
            "ticks": ""
           }
          },
          "title": {
           "x": 0.05
          },
          "xaxis": {
           "automargin": true,
           "gridcolor": "#EBF0F8",
           "linecolor": "#EBF0F8",
           "ticks": "",
           "title": {
            "standoff": 15
           },
           "zerolinecolor": "#EBF0F8",
           "zerolinewidth": 2
          },
          "yaxis": {
           "automargin": true,
           "gridcolor": "#EBF0F8",
           "linecolor": "#EBF0F8",
           "ticks": "",
           "title": {
            "standoff": 15
           },
           "zerolinecolor": "#EBF0F8",
           "zerolinewidth": 2
          }
         }
        },
        "title": {
         "text": "Interactive Regression Plot: Population vs Literacy Rate"
        },
        "xaxis": {
         "title": {
          "text": "State Population"
         }
        },
        "yaxis": {
         "title": {
          "text": "Literacy Rate (%)"
         }
        }
       }
      }
     },
     "metadata": {},
     "output_type": "display_data"
    }
   ],
   "source": [
    "import plotly.graph_objects as go\n",
    "import numpy as np\n",
    "from sklearn.linear_model import LinearRegression\n",
    "\n",
    "fig = go.Figure()\n",
    "\n",
    "languages = literacy_and_language_df[\"State Language\"].unique()\n",
    "\n",
    "for language in languages:\n",
    "\n",
    "    lang_data = literacy_and_language_df[literacy_and_language_df[\"State Language\"] == language]\n",
    "\n",
    "    fig.add_trace(go.Scatter(\n",
    "        x=lang_data[\"State Population\"],\n",
    "        y=lang_data[\"Literacy\"],\n",
    "        mode='markers',\n",
    "        name=f\"{language} - Data\",\n",
    "        marker=dict(size=8),\n",
    "        text=lang_data[\"State\"]\n",
    "    ))\n",
    "\n",
    "    X = lang_data[\"State Population\"].values.reshape(-1, 1)\n",
    "    y = lang_data[\"Literacy\"].values\n",
    "    if len(X) > 1: \n",
    "        model = LinearRegression()\n",
    "        model.fit(X, y)\n",
    "        y_pred = model.predict(X)\n",
    "\n",
    "        fig.add_trace(go.Scatter(\n",
    "            x=lang_data[\"State Population\"],\n",
    "            y=y_pred,\n",
    "            mode='lines',\n",
    "            name=f\"{language} - Regression\",\n",
    "            line=dict(dash='dash')\n",
    "        ))\n",
    "\n",
    "fig.update_layout(\n",
    "    title=\"Interactive Regression Plot: Population vs Literacy Rate\",\n",
    "    xaxis_title=\"State Population\",\n",
    "    yaxis_title=\"Literacy Rate (%)\",\n",
    "    legend_title=\"Legend\",\n",
    "    template=\"plotly_white\"\n",
    ")\n",
    "\n",
    "fig.show()"
   ]
  },
  {
   "cell_type": "markdown",
   "metadata": {},
   "source": [
    "#### **Bar Charts**\n",
    "- This bar chart indicates the literacy rates for each State language.\n",
    "- While some dominant languages like Malayalam and Tamil are linked with high literacy, others such as Hindi and Nissi exhibit variability.\n",
    "- It shows that literacy is influenced by state-specific factors rather than the language alone.\n",
    "- For example, in Kerala (Malayalam) and Tamil Nadu (Tamil) reflect strong regional education systems."
   ]
  },
  {
   "cell_type": "code",
   "execution_count": 70,
   "metadata": {},
   "outputs": [
    {
     "data": {
      "application/vnd.plotly.v1+json": {
       "config": {
        "plotlyServerURL": "https://plot.ly"
       },
       "data": [
        {
         "alignmentgroup": "True",
         "hovertemplate": "State Language=Assamese<br>State Name=%{x}<br>Literacy Rate (%)=%{y}<extra></extra>",
         "legendgroup": "Assamese",
         "marker": {
          "color": "#636efa",
          "pattern": {
           "shape": ""
          }
         },
         "name": "Assamese",
         "offsetgroup": "Assamese",
         "orientation": "v",
         "showlegend": true,
         "textposition": "auto",
         "type": "bar",
         "x": [
          "assam"
         ],
         "xaxis": "x",
         "y": [
          72.24740740740741
         ],
         "yaxis": "y"
        },
        {
         "alignmentgroup": "True",
         "hovertemplate": "State Language=Bengali<br>State Name=%{x}<br>Literacy Rate (%)=%{y}<extra></extra>",
         "legendgroup": "Bengali",
         "marker": {
          "color": "#EF553B",
          "pattern": {
           "shape": ""
          }
         },
         "name": "Bengali",
         "offsetgroup": "Bengali",
         "orientation": "v",
         "showlegend": true,
         "textposition": "auto",
         "type": "bar",
         "x": [
          "andaman and nicobar islands",
          "tripura",
          "west bengal"
         ],
         "xaxis": "x",
         "y": [
          83.7,
          86.6425,
          74.86368421052632
         ],
         "yaxis": "y"
        },
        {
         "alignmentgroup": "True",
         "hovertemplate": "State Language=Bhili<br>State Name=%{x}<br>Literacy Rate (%)=%{y}<extra></extra>",
         "legendgroup": "Bhili",
         "marker": {
          "color": "#00cc96",
          "pattern": {
           "shape": ""
          }
         },
         "name": "Bhili",
         "offsetgroup": "Bhili",
         "orientation": "v",
         "showlegend": true,
         "textposition": "auto",
         "type": "bar",
         "x": [
          "dadra and nagar haveli"
         ],
         "xaxis": "x",
         "y": [
          76.24
         ],
         "yaxis": "y"
        },
        {
         "alignmentgroup": "True",
         "hovertemplate": "State Language=Gujarati<br>State Name=%{x}<br>Literacy Rate (%)=%{y}<extra></extra>",
         "legendgroup": "Gujarati",
         "marker": {
          "color": "#ab63fa",
          "pattern": {
           "shape": ""
          }
         },
         "name": "Gujarati",
         "offsetgroup": "Gujarati",
         "orientation": "v",
         "showlegend": true,
         "textposition": "auto",
         "type": "bar",
         "x": [
          "daman and diu",
          "gujarat"
         ],
         "xaxis": "x",
         "y": [
          85.76499999999999,
          76.38923076923076
         ],
         "yaxis": "y"
        },
        {
         "alignmentgroup": "True",
         "hovertemplate": "State Language=Hindi<br>State Name=%{x}<br>Literacy Rate (%)=%{y}<extra></extra>",
         "legendgroup": "Hindi",
         "marker": {
          "color": "#FFA15A",
          "pattern": {
           "shape": ""
          }
         },
         "name": "Hindi",
         "offsetgroup": "Hindi",
         "orientation": "v",
         "showlegend": true,
         "textposition": "auto",
         "type": "bar",
         "x": [
          "bihar",
          "chandigarh",
          "chhattisgarh",
          "delhi",
          "haryana",
          "himachal pradesh",
          "jharkhand",
          "madhya pradesh",
          "rajasthan",
          "uttar pradesh",
          "uttarakhand"
         ],
         "xaxis": "x",
         "y": [
          61.75631578947368,
          86.05,
          65.84166666666667,
          86.55666666666667,
          75.35857142857142,
          81.7475,
          64.74458333333332,
          67.6834,
          64.60060606060607,
          67.50338028169014,
          79.64307692307692
         ],
         "yaxis": "y"
        },
        {
         "alignmentgroup": "True",
         "hovertemplate": "State Language=Kannada<br>State Name=%{x}<br>Literacy Rate (%)=%{y}<extra></extra>",
         "legendgroup": "Kannada",
         "marker": {
          "color": "#19d3f3",
          "pattern": {
           "shape": ""
          }
         },
         "name": "Kannada",
         "offsetgroup": "Kannada",
         "orientation": "v",
         "showlegend": true,
         "textposition": "auto",
         "type": "bar",
         "x": [
          "karnataka"
         ],
         "xaxis": "x",
         "y": [
          73.65566666666668
         ],
         "yaxis": "y"
        },
        {
         "alignmentgroup": "True",
         "hovertemplate": "State Language=Kashmiri<br>State Name=%{x}<br>Literacy Rate (%)=%{y}<extra></extra>",
         "legendgroup": "Kashmiri",
         "marker": {
          "color": "#FF6692",
          "pattern": {
           "shape": ""
          }
         },
         "name": "Kashmiri",
         "offsetgroup": "Kashmiri",
         "orientation": "v",
         "showlegend": true,
         "textposition": "auto",
         "type": "bar",
         "x": [
          "jammu and kashmir"
         ],
         "xaxis": "x",
         "y": [
          65.37727272727273
         ],
         "yaxis": "y"
        },
        {
         "alignmentgroup": "True",
         "hovertemplate": "State Language=Khasi<br>State Name=%{x}<br>Literacy Rate (%)=%{y}<extra></extra>",
         "legendgroup": "Khasi",
         "marker": {
          "color": "#B6E880",
          "pattern": {
           "shape": ""
          }
         },
         "name": "Khasi",
         "offsetgroup": "Khasi",
         "orientation": "v",
         "showlegend": true,
         "textposition": "auto",
         "type": "bar",
         "x": [
          "meghalaya"
         ],
         "xaxis": "x",
         "y": [
          73.22571428571429
         ],
         "yaxis": "y"
        },
        {
         "alignmentgroup": "True",
         "hovertemplate": "State Language=Konkani<br>State Name=%{x}<br>Literacy Rate (%)=%{y}<extra></extra>",
         "legendgroup": "Konkani",
         "marker": {
          "color": "#FF97FF",
          "pattern": {
           "shape": ""
          }
         },
         "name": "Konkani",
         "offsetgroup": "Konkani",
         "orientation": "v",
         "showlegend": true,
         "textposition": "auto",
         "type": "bar",
         "x": [
          "goa"
         ],
         "xaxis": "x",
         "y": [
          88.58
         ],
         "yaxis": "y"
        },
        {
         "alignmentgroup": "True",
         "hovertemplate": "State Language=Konyak<br>State Name=%{x}<br>Literacy Rate (%)=%{y}<extra></extra>",
         "legendgroup": "Konyak",
         "marker": {
          "color": "#FECB52",
          "pattern": {
           "shape": ""
          }
         },
         "name": "Konyak",
         "offsetgroup": "Konyak",
         "orientation": "v",
         "showlegend": true,
         "textposition": "auto",
         "type": "bar",
         "x": [
          "nagaland"
         ],
         "xaxis": "x",
         "y": [
          78.39727272727272
         ],
         "yaxis": "y"
        },
        {
         "alignmentgroup": "True",
         "hovertemplate": "State Language=Lushai<br>State Name=%{x}<br>Literacy Rate (%)=%{y}<extra></extra>",
         "legendgroup": "Lushai",
         "marker": {
          "color": "#636efa",
          "pattern": {
           "shape": ""
          }
         },
         "name": "Lushai",
         "offsetgroup": "Lushai",
         "orientation": "v",
         "showlegend": true,
         "textposition": "auto",
         "type": "bar",
         "x": [
          "mizoram"
         ],
         "xaxis": "x",
         "y": [
          89.36125
         ],
         "yaxis": "y"
        },
        {
         "alignmentgroup": "True",
         "hovertemplate": "State Language=Malayalam<br>State Name=%{x}<br>Literacy Rate (%)=%{y}<extra></extra>",
         "legendgroup": "Malayalam",
         "marker": {
          "color": "#EF553B",
          "pattern": {
           "shape": ""
          }
         },
         "name": "Malayalam",
         "offsetgroup": "Malayalam",
         "orientation": "v",
         "showlegend": true,
         "textposition": "auto",
         "type": "bar",
         "x": [
          "kerala",
          "lakshadweep"
         ],
         "xaxis": "x",
         "y": [
          93.69500000000001,
          91.85
         ],
         "yaxis": "y"
        },
        {
         "alignmentgroup": "True",
         "hovertemplate": "State Language=Manipuri<br>State Name=%{x}<br>Literacy Rate (%)=%{y}<extra></extra>",
         "legendgroup": "Manipuri",
         "marker": {
          "color": "#00cc96",
          "pattern": {
           "shape": ""
          }
         },
         "name": "Manipuri",
         "offsetgroup": "Manipuri",
         "orientation": "v",
         "showlegend": true,
         "textposition": "auto",
         "type": "bar",
         "x": [
          "manipur"
         ],
         "xaxis": "x",
         "y": [
          76.36
         ],
         "yaxis": "y"
        },
        {
         "alignmentgroup": "True",
         "hovertemplate": "State Language=Marathi<br>State Name=%{x}<br>Literacy Rate (%)=%{y}<extra></extra>",
         "legendgroup": "Marathi",
         "marker": {
          "color": "#ab63fa",
          "pattern": {
           "shape": ""
          }
         },
         "name": "Marathi",
         "offsetgroup": "Marathi",
         "orientation": "v",
         "showlegend": true,
         "textposition": "auto",
         "type": "bar",
         "x": [
          "maharashtra"
         ],
         "xaxis": "x",
         "y": [
          80.96714285714286
         ],
         "yaxis": "y"
        },
        {
         "alignmentgroup": "True",
         "hovertemplate": "State Language=Nepali<br>State Name=%{x}<br>Literacy Rate (%)=%{y}<extra></extra>",
         "legendgroup": "Nepali",
         "marker": {
          "color": "#FFA15A",
          "pattern": {
           "shape": ""
          }
         },
         "name": "Nepali",
         "offsetgroup": "Nepali",
         "orientation": "v",
         "showlegend": true,
         "textposition": "auto",
         "type": "bar",
         "x": [
          "sikkim"
         ],
         "xaxis": "x",
         "y": [
          80.1675
         ],
         "yaxis": "y"
        },
        {
         "alignmentgroup": "True",
         "hovertemplate": "State Language=Nissi<br>State Name=%{x}<br>Literacy Rate (%)=%{y}<extra></extra>",
         "legendgroup": "Nissi",
         "marker": {
          "color": "#19d3f3",
          "pattern": {
           "shape": ""
          }
         },
         "name": "Nissi",
         "offsetgroup": "Nissi",
         "orientation": "v",
         "showlegend": true,
         "textposition": "auto",
         "type": "bar",
         "x": [
          "arunachal pradesh"
         ],
         "xaxis": "x",
         "y": [
          63.861875
         ],
         "yaxis": "y"
        },
        {
         "alignmentgroup": "True",
         "hovertemplate": "State Language=Odia<br>State Name=%{x}<br>Literacy Rate (%)=%{y}<extra></extra>",
         "legendgroup": "Odia",
         "marker": {
          "color": "#FF6692",
          "pattern": {
           "shape": ""
          }
         },
         "name": "Odia",
         "offsetgroup": "Odia",
         "orientation": "v",
         "showlegend": true,
         "textposition": "auto",
         "type": "bar",
         "x": [
          "orissa"
         ],
         "xaxis": "x",
         "y": [
          70.83966666666667
         ],
         "yaxis": "y"
        },
        {
         "alignmentgroup": "True",
         "hovertemplate": "State Language=Punjabi<br>State Name=%{x}<br>Literacy Rate (%)=%{y}<extra></extra>",
         "legendgroup": "Punjabi",
         "marker": {
          "color": "#B6E880",
          "pattern": {
           "shape": ""
          }
         },
         "name": "Punjabi",
         "offsetgroup": "Punjabi",
         "orientation": "v",
         "showlegend": true,
         "textposition": "auto",
         "type": "bar",
         "x": [
          "punjab"
         ],
         "xaxis": "x",
         "y": [
          74.6825
         ],
         "yaxis": "y"
        },
        {
         "alignmentgroup": "True",
         "hovertemplate": "State Language=Tamil<br>State Name=%{x}<br>Literacy Rate (%)=%{y}<extra></extra>",
         "legendgroup": "Tamil",
         "marker": {
          "color": "#FF97FF",
          "pattern": {
           "shape": ""
          }
         },
         "name": "Tamil",
         "offsetgroup": "Tamil",
         "orientation": "v",
         "showlegend": true,
         "textposition": "auto",
         "type": "bar",
         "x": [
          "puducherry",
          "tamil nadu"
         ],
         "xaxis": "x",
         "y": [
          87.4575,
          79.3375
         ],
         "yaxis": "y"
        },
        {
         "alignmentgroup": "True",
         "hovertemplate": "State Language=Telugu<br>State Name=%{x}<br>Literacy Rate (%)=%{y}<extra></extra>",
         "legendgroup": "Telugu",
         "marker": {
          "color": "#FECB52",
          "pattern": {
           "shape": ""
          }
         },
         "name": "Telugu",
         "offsetgroup": "Telugu",
         "orientation": "v",
         "showlegend": true,
         "textposition": "auto",
         "type": "bar",
         "x": [
          "andhra pradesh"
         ],
         "xaxis": "x",
         "y": [
          66.29391304347826
         ],
         "yaxis": "y"
        }
       ],
       "layout": {
        "barmode": "relative",
        "legend": {
         "title": {
          "text": "State Language"
         },
         "tracegroupgap": 0
        },
        "template": {
         "data": {
          "bar": [
           {
            "error_x": {
             "color": "#2a3f5f"
            },
            "error_y": {
             "color": "#2a3f5f"
            },
            "marker": {
             "line": {
              "color": "white",
              "width": 0.5
             },
             "pattern": {
              "fillmode": "overlay",
              "size": 10,
              "solidity": 0.2
             }
            },
            "type": "bar"
           }
          ],
          "barpolar": [
           {
            "marker": {
             "line": {
              "color": "white",
              "width": 0.5
             },
             "pattern": {
              "fillmode": "overlay",
              "size": 10,
              "solidity": 0.2
             }
            },
            "type": "barpolar"
           }
          ],
          "carpet": [
           {
            "aaxis": {
             "endlinecolor": "#2a3f5f",
             "gridcolor": "#C8D4E3",
             "linecolor": "#C8D4E3",
             "minorgridcolor": "#C8D4E3",
             "startlinecolor": "#2a3f5f"
            },
            "baxis": {
             "endlinecolor": "#2a3f5f",
             "gridcolor": "#C8D4E3",
             "linecolor": "#C8D4E3",
             "minorgridcolor": "#C8D4E3",
             "startlinecolor": "#2a3f5f"
            },
            "type": "carpet"
           }
          ],
          "choropleth": [
           {
            "colorbar": {
             "outlinewidth": 0,
             "ticks": ""
            },
            "type": "choropleth"
           }
          ],
          "contour": [
           {
            "colorbar": {
             "outlinewidth": 0,
             "ticks": ""
            },
            "colorscale": [
             [
              0,
              "#0d0887"
             ],
             [
              0.1111111111111111,
              "#46039f"
             ],
             [
              0.2222222222222222,
              "#7201a8"
             ],
             [
              0.3333333333333333,
              "#9c179e"
             ],
             [
              0.4444444444444444,
              "#bd3786"
             ],
             [
              0.5555555555555556,
              "#d8576b"
             ],
             [
              0.6666666666666666,
              "#ed7953"
             ],
             [
              0.7777777777777778,
              "#fb9f3a"
             ],
             [
              0.8888888888888888,
              "#fdca26"
             ],
             [
              1,
              "#f0f921"
             ]
            ],
            "type": "contour"
           }
          ],
          "contourcarpet": [
           {
            "colorbar": {
             "outlinewidth": 0,
             "ticks": ""
            },
            "type": "contourcarpet"
           }
          ],
          "heatmap": [
           {
            "colorbar": {
             "outlinewidth": 0,
             "ticks": ""
            },
            "colorscale": [
             [
              0,
              "#0d0887"
             ],
             [
              0.1111111111111111,
              "#46039f"
             ],
             [
              0.2222222222222222,
              "#7201a8"
             ],
             [
              0.3333333333333333,
              "#9c179e"
             ],
             [
              0.4444444444444444,
              "#bd3786"
             ],
             [
              0.5555555555555556,
              "#d8576b"
             ],
             [
              0.6666666666666666,
              "#ed7953"
             ],
             [
              0.7777777777777778,
              "#fb9f3a"
             ],
             [
              0.8888888888888888,
              "#fdca26"
             ],
             [
              1,
              "#f0f921"
             ]
            ],
            "type": "heatmap"
           }
          ],
          "heatmapgl": [
           {
            "colorbar": {
             "outlinewidth": 0,
             "ticks": ""
            },
            "colorscale": [
             [
              0,
              "#0d0887"
             ],
             [
              0.1111111111111111,
              "#46039f"
             ],
             [
              0.2222222222222222,
              "#7201a8"
             ],
             [
              0.3333333333333333,
              "#9c179e"
             ],
             [
              0.4444444444444444,
              "#bd3786"
             ],
             [
              0.5555555555555556,
              "#d8576b"
             ],
             [
              0.6666666666666666,
              "#ed7953"
             ],
             [
              0.7777777777777778,
              "#fb9f3a"
             ],
             [
              0.8888888888888888,
              "#fdca26"
             ],
             [
              1,
              "#f0f921"
             ]
            ],
            "type": "heatmapgl"
           }
          ],
          "histogram": [
           {
            "marker": {
             "pattern": {
              "fillmode": "overlay",
              "size": 10,
              "solidity": 0.2
             }
            },
            "type": "histogram"
           }
          ],
          "histogram2d": [
           {
            "colorbar": {
             "outlinewidth": 0,
             "ticks": ""
            },
            "colorscale": [
             [
              0,
              "#0d0887"
             ],
             [
              0.1111111111111111,
              "#46039f"
             ],
             [
              0.2222222222222222,
              "#7201a8"
             ],
             [
              0.3333333333333333,
              "#9c179e"
             ],
             [
              0.4444444444444444,
              "#bd3786"
             ],
             [
              0.5555555555555556,
              "#d8576b"
             ],
             [
              0.6666666666666666,
              "#ed7953"
             ],
             [
              0.7777777777777778,
              "#fb9f3a"
             ],
             [
              0.8888888888888888,
              "#fdca26"
             ],
             [
              1,
              "#f0f921"
             ]
            ],
            "type": "histogram2d"
           }
          ],
          "histogram2dcontour": [
           {
            "colorbar": {
             "outlinewidth": 0,
             "ticks": ""
            },
            "colorscale": [
             [
              0,
              "#0d0887"
             ],
             [
              0.1111111111111111,
              "#46039f"
             ],
             [
              0.2222222222222222,
              "#7201a8"
             ],
             [
              0.3333333333333333,
              "#9c179e"
             ],
             [
              0.4444444444444444,
              "#bd3786"
             ],
             [
              0.5555555555555556,
              "#d8576b"
             ],
             [
              0.6666666666666666,
              "#ed7953"
             ],
             [
              0.7777777777777778,
              "#fb9f3a"
             ],
             [
              0.8888888888888888,
              "#fdca26"
             ],
             [
              1,
              "#f0f921"
             ]
            ],
            "type": "histogram2dcontour"
           }
          ],
          "mesh3d": [
           {
            "colorbar": {
             "outlinewidth": 0,
             "ticks": ""
            },
            "type": "mesh3d"
           }
          ],
          "parcoords": [
           {
            "line": {
             "colorbar": {
              "outlinewidth": 0,
              "ticks": ""
             }
            },
            "type": "parcoords"
           }
          ],
          "pie": [
           {
            "automargin": true,
            "type": "pie"
           }
          ],
          "scatter": [
           {
            "fillpattern": {
             "fillmode": "overlay",
             "size": 10,
             "solidity": 0.2
            },
            "type": "scatter"
           }
          ],
          "scatter3d": [
           {
            "line": {
             "colorbar": {
              "outlinewidth": 0,
              "ticks": ""
             }
            },
            "marker": {
             "colorbar": {
              "outlinewidth": 0,
              "ticks": ""
             }
            },
            "type": "scatter3d"
           }
          ],
          "scattercarpet": [
           {
            "marker": {
             "colorbar": {
              "outlinewidth": 0,
              "ticks": ""
             }
            },
            "type": "scattercarpet"
           }
          ],
          "scattergeo": [
           {
            "marker": {
             "colorbar": {
              "outlinewidth": 0,
              "ticks": ""
             }
            },
            "type": "scattergeo"
           }
          ],
          "scattergl": [
           {
            "marker": {
             "colorbar": {
              "outlinewidth": 0,
              "ticks": ""
             }
            },
            "type": "scattergl"
           }
          ],
          "scattermapbox": [
           {
            "marker": {
             "colorbar": {
              "outlinewidth": 0,
              "ticks": ""
             }
            },
            "type": "scattermapbox"
           }
          ],
          "scatterpolar": [
           {
            "marker": {
             "colorbar": {
              "outlinewidth": 0,
              "ticks": ""
             }
            },
            "type": "scatterpolar"
           }
          ],
          "scatterpolargl": [
           {
            "marker": {
             "colorbar": {
              "outlinewidth": 0,
              "ticks": ""
             }
            },
            "type": "scatterpolargl"
           }
          ],
          "scatterternary": [
           {
            "marker": {
             "colorbar": {
              "outlinewidth": 0,
              "ticks": ""
             }
            },
            "type": "scatterternary"
           }
          ],
          "surface": [
           {
            "colorbar": {
             "outlinewidth": 0,
             "ticks": ""
            },
            "colorscale": [
             [
              0,
              "#0d0887"
             ],
             [
              0.1111111111111111,
              "#46039f"
             ],
             [
              0.2222222222222222,
              "#7201a8"
             ],
             [
              0.3333333333333333,
              "#9c179e"
             ],
             [
              0.4444444444444444,
              "#bd3786"
             ],
             [
              0.5555555555555556,
              "#d8576b"
             ],
             [
              0.6666666666666666,
              "#ed7953"
             ],
             [
              0.7777777777777778,
              "#fb9f3a"
             ],
             [
              0.8888888888888888,
              "#fdca26"
             ],
             [
              1,
              "#f0f921"
             ]
            ],
            "type": "surface"
           }
          ],
          "table": [
           {
            "cells": {
             "fill": {
              "color": "#EBF0F8"
             },
             "line": {
              "color": "white"
             }
            },
            "header": {
             "fill": {
              "color": "#C8D4E3"
             },
             "line": {
              "color": "white"
             }
            },
            "type": "table"
           }
          ]
         },
         "layout": {
          "annotationdefaults": {
           "arrowcolor": "#2a3f5f",
           "arrowhead": 0,
           "arrowwidth": 1
          },
          "autotypenumbers": "strict",
          "coloraxis": {
           "colorbar": {
            "outlinewidth": 0,
            "ticks": ""
           }
          },
          "colorscale": {
           "diverging": [
            [
             0,
             "#8e0152"
            ],
            [
             0.1,
             "#c51b7d"
            ],
            [
             0.2,
             "#de77ae"
            ],
            [
             0.3,
             "#f1b6da"
            ],
            [
             0.4,
             "#fde0ef"
            ],
            [
             0.5,
             "#f7f7f7"
            ],
            [
             0.6,
             "#e6f5d0"
            ],
            [
             0.7,
             "#b8e186"
            ],
            [
             0.8,
             "#7fbc41"
            ],
            [
             0.9,
             "#4d9221"
            ],
            [
             1,
             "#276419"
            ]
           ],
           "sequential": [
            [
             0,
             "#0d0887"
            ],
            [
             0.1111111111111111,
             "#46039f"
            ],
            [
             0.2222222222222222,
             "#7201a8"
            ],
            [
             0.3333333333333333,
             "#9c179e"
            ],
            [
             0.4444444444444444,
             "#bd3786"
            ],
            [
             0.5555555555555556,
             "#d8576b"
            ],
            [
             0.6666666666666666,
             "#ed7953"
            ],
            [
             0.7777777777777778,
             "#fb9f3a"
            ],
            [
             0.8888888888888888,
             "#fdca26"
            ],
            [
             1,
             "#f0f921"
            ]
           ],
           "sequentialminus": [
            [
             0,
             "#0d0887"
            ],
            [
             0.1111111111111111,
             "#46039f"
            ],
            [
             0.2222222222222222,
             "#7201a8"
            ],
            [
             0.3333333333333333,
             "#9c179e"
            ],
            [
             0.4444444444444444,
             "#bd3786"
            ],
            [
             0.5555555555555556,
             "#d8576b"
            ],
            [
             0.6666666666666666,
             "#ed7953"
            ],
            [
             0.7777777777777778,
             "#fb9f3a"
            ],
            [
             0.8888888888888888,
             "#fdca26"
            ],
            [
             1,
             "#f0f921"
            ]
           ]
          },
          "colorway": [
           "#636efa",
           "#EF553B",
           "#00cc96",
           "#ab63fa",
           "#FFA15A",
           "#19d3f3",
           "#FF6692",
           "#B6E880",
           "#FF97FF",
           "#FECB52"
          ],
          "font": {
           "color": "#2a3f5f"
          },
          "geo": {
           "bgcolor": "white",
           "lakecolor": "white",
           "landcolor": "white",
           "showlakes": true,
           "showland": true,
           "subunitcolor": "#C8D4E3"
          },
          "hoverlabel": {
           "align": "left"
          },
          "hovermode": "closest",
          "mapbox": {
           "style": "light"
          },
          "paper_bgcolor": "white",
          "plot_bgcolor": "white",
          "polar": {
           "angularaxis": {
            "gridcolor": "#EBF0F8",
            "linecolor": "#EBF0F8",
            "ticks": ""
           },
           "bgcolor": "white",
           "radialaxis": {
            "gridcolor": "#EBF0F8",
            "linecolor": "#EBF0F8",
            "ticks": ""
           }
          },
          "scene": {
           "xaxis": {
            "backgroundcolor": "white",
            "gridcolor": "#DFE8F3",
            "gridwidth": 2,
            "linecolor": "#EBF0F8",
            "showbackground": true,
            "ticks": "",
            "zerolinecolor": "#EBF0F8"
           },
           "yaxis": {
            "backgroundcolor": "white",
            "gridcolor": "#DFE8F3",
            "gridwidth": 2,
            "linecolor": "#EBF0F8",
            "showbackground": true,
            "ticks": "",
            "zerolinecolor": "#EBF0F8"
           },
           "zaxis": {
            "backgroundcolor": "white",
            "gridcolor": "#DFE8F3",
            "gridwidth": 2,
            "linecolor": "#EBF0F8",
            "showbackground": true,
            "ticks": "",
            "zerolinecolor": "#EBF0F8"
           }
          },
          "shapedefaults": {
           "line": {
            "color": "#2a3f5f"
           }
          },
          "ternary": {
           "aaxis": {
            "gridcolor": "#DFE8F3",
            "linecolor": "#A2B1C6",
            "ticks": ""
           },
           "baxis": {
            "gridcolor": "#DFE8F3",
            "linecolor": "#A2B1C6",
            "ticks": ""
           },
           "bgcolor": "white",
           "caxis": {
            "gridcolor": "#DFE8F3",
            "linecolor": "#A2B1C6",
            "ticks": ""
           }
          },
          "title": {
           "x": 0.05
          },
          "xaxis": {
           "automargin": true,
           "gridcolor": "#EBF0F8",
           "linecolor": "#EBF0F8",
           "ticks": "",
           "title": {
            "standoff": 15
           },
           "zerolinecolor": "#EBF0F8",
           "zerolinewidth": 2
          },
          "yaxis": {
           "automargin": true,
           "gridcolor": "#EBF0F8",
           "linecolor": "#EBF0F8",
           "ticks": "",
           "title": {
            "standoff": 15
           },
           "zerolinecolor": "#EBF0F8",
           "zerolinewidth": 2
          }
         }
        },
        "title": {
         "text": "Interactive Bar Chart: Average Literacy Rate by State"
        },
        "xaxis": {
         "anchor": "y",
         "domain": [
          0,
          1
         ],
         "tickangle": 45,
         "title": {
          "text": "State Name"
         }
        },
        "yaxis": {
         "anchor": "x",
         "domain": [
          0,
          1
         ],
         "title": {
          "text": "Average Literacy Rate (%)"
         }
        }
       }
      }
     },
     "metadata": {},
     "output_type": "display_data"
    }
   ],
   "source": [
    "average_literacy = literacy_and_language_df.groupby([\"State Language\", \"State\"]).agg({\"Literacy\": \"mean\"}).reset_index()\n",
    "\n",
    "fig = px.bar(\n",
    "    average_literacy,\n",
    "    x=\"State\",\n",
    "    y=\"Literacy\",\n",
    "    color=\"State Language\", \n",
    "    title=\"Interactive Bar Chart: Average Literacy Rate by State\",\n",
    "    labels={\"Literacy\": \"Literacy Rate (%)\", \"State\": \"State Name\"},\n",
    "    color_continuous_scale=\"Viridis\"\n",
    ")\n",
    "\n",
    "fig.update_layout(\n",
    "    xaxis_title=\"State Name\",\n",
    "    yaxis_title=\"Average Literacy Rate (%)\",\n",
    "    template=\"plotly_white\",\n",
    "    xaxis=dict(tickangle=45)\n",
    ")\n",
    "\n",
    "fig.show()"
   ]
  },
  {
   "cell_type": "markdown",
   "metadata": {},
   "source": [
    "#### **Bubble Chart**\n",
    "- The bubble chart combines population and the literacy rates for each Indian state.\n",
    "- Uttar Pradesh, with the largest population, has a relatively low literacy rate, whereas states like Kerala and Maharashtra, with smaller populations compared to Uttar Pradesh, exhibit significantly higher literacy rates.\n",
    "- The hypothesis is potentially challenged with this data and indicative that larger populations may not inherently lead to higher literacy.\n"
   ]
  },
  {
   "cell_type": "code",
   "execution_count": 72,
   "metadata": {},
   "outputs": [
    {
     "data": {
      "application/vnd.plotly.v1+json": {
       "config": {
        "plotlyServerURL": "https://plot.ly"
       },
       "data": [
        {
         "hovertemplate": "<b>%{hovertext}</b><br><br>State Language=Bengali<br>Population=%{marker.size}<br>Literacy Rate (%)=%{y}<extra></extra>",
         "hovertext": [
          "andaman and nicobar islands",
          "tripura",
          "west bengal"
         ],
         "legendgroup": "Bengali",
         "marker": {
          "color": "#636efa",
          "size": [
           380581,
           3673917,
           91276115
          ],
          "sizemode": "area",
          "sizeref": 55503.42805555555,
          "symbol": "circle"
         },
         "mode": "markers",
         "name": "Bengali",
         "orientation": "v",
         "showlegend": true,
         "type": "scatter",
         "x": [
          380581,
          3673917,
          91276115
         ],
         "xaxis": "x",
         "y": [
          83.7,
          86.6425,
          74.86368421052632
         ],
         "yaxis": "y"
        },
        {
         "hovertemplate": "<b>%{hovertext}</b><br><br>State Language=Telugu<br>Population=%{marker.size}<br>Literacy Rate (%)=%{y}<extra></extra>",
         "hovertext": [
          "andhra pradesh"
         ],
         "legendgroup": "Telugu",
         "marker": {
          "color": "#EF553B",
          "size": [
           84580777
          ],
          "sizemode": "area",
          "sizeref": 55503.42805555555,
          "symbol": "circle"
         },
         "mode": "markers",
         "name": "Telugu",
         "orientation": "v",
         "showlegend": true,
         "type": "scatter",
         "x": [
          84580777
         ],
         "xaxis": "x",
         "y": [
          66.29391304347826
         ],
         "yaxis": "y"
        },
        {
         "hovertemplate": "<b>%{hovertext}</b><br><br>State Language=Nissi<br>Population=%{marker.size}<br>Literacy Rate (%)=%{y}<extra></extra>",
         "hovertext": [
          "arunachal pradesh"
         ],
         "legendgroup": "Nissi",
         "marker": {
          "color": "#00cc96",
          "size": [
           1383727
          ],
          "sizemode": "area",
          "sizeref": 55503.42805555555,
          "symbol": "circle"
         },
         "mode": "markers",
         "name": "Nissi",
         "orientation": "v",
         "showlegend": true,
         "type": "scatter",
         "x": [
          1383727
         ],
         "xaxis": "x",
         "y": [
          63.861875
         ],
         "yaxis": "y"
        },
        {
         "hovertemplate": "<b>%{hovertext}</b><br><br>State Language=Assamese<br>Population=%{marker.size}<br>Literacy Rate (%)=%{y}<extra></extra>",
         "hovertext": [
          "assam"
         ],
         "legendgroup": "Assamese",
         "marker": {
          "color": "#ab63fa",
          "size": [
           31205576
          ],
          "sizemode": "area",
          "sizeref": 55503.42805555555,
          "symbol": "circle"
         },
         "mode": "markers",
         "name": "Assamese",
         "orientation": "v",
         "showlegend": true,
         "type": "scatter",
         "x": [
          31205576
         ],
         "xaxis": "x",
         "y": [
          72.24740740740741
         ],
         "yaxis": "y"
        },
        {
         "hovertemplate": "<b>%{hovertext}</b><br><br>State Language=Hindi<br>Population=%{marker.size}<br>Literacy Rate (%)=%{y}<extra></extra>",
         "hovertext": [
          "bihar",
          "chandigarh",
          "chhattisgarh",
          "haryana",
          "himachal pradesh",
          "jharkhand",
          "madhya pradesh",
          "delhi",
          "rajasthan",
          "uttar pradesh",
          "uttarakhand"
         ],
         "legendgroup": "Hindi",
         "marker": {
          "color": "#FFA15A",
          "size": [
           104099452,
           1055450,
           25545198,
           25351462,
           6864602,
           32988134,
           72626809,
           16787941,
           68548437,
           199812341,
           10086292
          ],
          "sizemode": "area",
          "sizeref": 55503.42805555555,
          "symbol": "circle"
         },
         "mode": "markers",
         "name": "Hindi",
         "orientation": "v",
         "showlegend": true,
         "type": "scatter",
         "x": [
          104099452,
          1055450,
          25545198,
          25351462,
          6864602,
          32988134,
          72626809,
          16787941,
          68548437,
          199812341,
          10086292
         ],
         "xaxis": "x",
         "y": [
          61.75631578947368,
          86.05,
          65.84166666666667,
          75.35857142857142,
          81.7475,
          64.74458333333332,
          67.6834,
          86.55666666666667,
          64.60060606060607,
          67.50338028169014,
          79.64307692307692
         ],
         "yaxis": "y"
        },
        {
         "hovertemplate": "<b>%{hovertext}</b><br><br>State Language=Bhili<br>Population=%{marker.size}<br>Literacy Rate (%)=%{y}<extra></extra>",
         "hovertext": [
          "dadra and nagar haveli"
         ],
         "legendgroup": "Bhili",
         "marker": {
          "color": "#19d3f3",
          "size": [
           343709
          ],
          "sizemode": "area",
          "sizeref": 55503.42805555555,
          "symbol": "circle"
         },
         "mode": "markers",
         "name": "Bhili",
         "orientation": "v",
         "showlegend": true,
         "type": "scatter",
         "x": [
          343709
         ],
         "xaxis": "x",
         "y": [
          76.24
         ],
         "yaxis": "y"
        },
        {
         "hovertemplate": "<b>%{hovertext}</b><br><br>State Language=Gujarati<br>Population=%{marker.size}<br>Literacy Rate (%)=%{y}<extra></extra>",
         "hovertext": [
          "daman and diu",
          "gujarat"
         ],
         "legendgroup": "Gujarati",
         "marker": {
          "color": "#FF6692",
          "size": [
           243247,
           60439692
          ],
          "sizemode": "area",
          "sizeref": 55503.42805555555,
          "symbol": "circle"
         },
         "mode": "markers",
         "name": "Gujarati",
         "orientation": "v",
         "showlegend": true,
         "type": "scatter",
         "x": [
          243247,
          60439692
         ],
         "xaxis": "x",
         "y": [
          85.76499999999999,
          76.38923076923076
         ],
         "yaxis": "y"
        },
        {
         "hovertemplate": "<b>%{hovertext}</b><br><br>State Language=Konkani<br>Population=%{marker.size}<br>Literacy Rate (%)=%{y}<extra></extra>",
         "hovertext": [
          "goa"
         ],
         "legendgroup": "Konkani",
         "marker": {
          "color": "#B6E880",
          "size": [
           1458545
          ],
          "sizemode": "area",
          "sizeref": 55503.42805555555,
          "symbol": "circle"
         },
         "mode": "markers",
         "name": "Konkani",
         "orientation": "v",
         "showlegend": true,
         "type": "scatter",
         "x": [
          1458545
         ],
         "xaxis": "x",
         "y": [
          88.58
         ],
         "yaxis": "y"
        },
        {
         "hovertemplate": "<b>%{hovertext}</b><br><br>State Language=Kashmiri<br>Population=%{marker.size}<br>Literacy Rate (%)=%{y}<extra></extra>",
         "hovertext": [
          "jammu and kashmir"
         ],
         "legendgroup": "Kashmiri",
         "marker": {
          "color": "#FF97FF",
          "size": [
           12541302
          ],
          "sizemode": "area",
          "sizeref": 55503.42805555555,
          "symbol": "circle"
         },
         "mode": "markers",
         "name": "Kashmiri",
         "orientation": "v",
         "showlegend": true,
         "type": "scatter",
         "x": [
          12541302
         ],
         "xaxis": "x",
         "y": [
          65.37727272727273
         ],
         "yaxis": "y"
        },
        {
         "hovertemplate": "<b>%{hovertext}</b><br><br>State Language=Kannada<br>Population=%{marker.size}<br>Literacy Rate (%)=%{y}<extra></extra>",
         "hovertext": [
          "karnataka"
         ],
         "legendgroup": "Kannada",
         "marker": {
          "color": "#FECB52",
          "size": [
           61095297
          ],
          "sizemode": "area",
          "sizeref": 55503.42805555555,
          "symbol": "circle"
         },
         "mode": "markers",
         "name": "Kannada",
         "orientation": "v",
         "showlegend": true,
         "type": "scatter",
         "x": [
          61095297
         ],
         "xaxis": "x",
         "y": [
          73.65566666666668
         ],
         "yaxis": "y"
        },
        {
         "hovertemplate": "<b>%{hovertext}</b><br><br>State Language=Malayalam<br>Population=%{marker.size}<br>Literacy Rate (%)=%{y}<extra></extra>",
         "hovertext": [
          "kerala",
          "lakshadweep"
         ],
         "legendgroup": "Malayalam",
         "marker": {
          "color": "#636efa",
          "size": [
           33406061,
           64473
          ],
          "sizemode": "area",
          "sizeref": 55503.42805555555,
          "symbol": "circle"
         },
         "mode": "markers",
         "name": "Malayalam",
         "orientation": "v",
         "showlegend": true,
         "type": "scatter",
         "x": [
          33406061,
          64473
         ],
         "xaxis": "x",
         "y": [
          93.69500000000001,
          91.85
         ],
         "yaxis": "y"
        },
        {
         "hovertemplate": "<b>%{hovertext}</b><br><br>State Language=Marathi<br>Population=%{marker.size}<br>Literacy Rate (%)=%{y}<extra></extra>",
         "hovertext": [
          "maharashtra"
         ],
         "legendgroup": "Marathi",
         "marker": {
          "color": "#EF553B",
          "size": [
           112374333
          ],
          "sizemode": "area",
          "sizeref": 55503.42805555555,
          "symbol": "circle"
         },
         "mode": "markers",
         "name": "Marathi",
         "orientation": "v",
         "showlegend": true,
         "type": "scatter",
         "x": [
          112374333
         ],
         "xaxis": "x",
         "y": [
          80.96714285714286
         ],
         "yaxis": "y"
        },
        {
         "hovertemplate": "<b>%{hovertext}</b><br><br>State Language=Manipuri<br>Population=%{marker.size}<br>Literacy Rate (%)=%{y}<extra></extra>",
         "hovertext": [
          "manipur"
         ],
         "legendgroup": "Manipuri",
         "marker": {
          "color": "#00cc96",
          "size": [
           2855794
          ],
          "sizemode": "area",
          "sizeref": 55503.42805555555,
          "symbol": "circle"
         },
         "mode": "markers",
         "name": "Manipuri",
         "orientation": "v",
         "showlegend": true,
         "type": "scatter",
         "x": [
          2855794
         ],
         "xaxis": "x",
         "y": [
          76.36
         ],
         "yaxis": "y"
        },
        {
         "hovertemplate": "<b>%{hovertext}</b><br><br>State Language=Khasi<br>Population=%{marker.size}<br>Literacy Rate (%)=%{y}<extra></extra>",
         "hovertext": [
          "meghalaya"
         ],
         "legendgroup": "Khasi",
         "marker": {
          "color": "#ab63fa",
          "size": [
           2966889
          ],
          "sizemode": "area",
          "sizeref": 55503.42805555555,
          "symbol": "circle"
         },
         "mode": "markers",
         "name": "Khasi",
         "orientation": "v",
         "showlegend": true,
         "type": "scatter",
         "x": [
          2966889
         ],
         "xaxis": "x",
         "y": [
          73.22571428571429
         ],
         "yaxis": "y"
        },
        {
         "hovertemplate": "<b>%{hovertext}</b><br><br>State Language=Lushai<br>Population=%{marker.size}<br>Literacy Rate (%)=%{y}<extra></extra>",
         "hovertext": [
          "mizoram"
         ],
         "legendgroup": "Lushai",
         "marker": {
          "color": "#FFA15A",
          "size": [
           1097206
          ],
          "sizemode": "area",
          "sizeref": 55503.42805555555,
          "symbol": "circle"
         },
         "mode": "markers",
         "name": "Lushai",
         "orientation": "v",
         "showlegend": true,
         "type": "scatter",
         "x": [
          1097206
         ],
         "xaxis": "x",
         "y": [
          89.36125
         ],
         "yaxis": "y"
        },
        {
         "hovertemplate": "<b>%{hovertext}</b><br><br>State Language=Konyak<br>Population=%{marker.size}<br>Literacy Rate (%)=%{y}<extra></extra>",
         "hovertext": [
          "nagaland"
         ],
         "legendgroup": "Konyak",
         "marker": {
          "color": "#19d3f3",
          "size": [
           1978502
          ],
          "sizemode": "area",
          "sizeref": 55503.42805555555,
          "symbol": "circle"
         },
         "mode": "markers",
         "name": "Konyak",
         "orientation": "v",
         "showlegend": true,
         "type": "scatter",
         "x": [
          1978502
         ],
         "xaxis": "x",
         "y": [
          78.39727272727272
         ],
         "yaxis": "y"
        },
        {
         "hovertemplate": "<b>%{hovertext}</b><br><br>State Language=Odia<br>Population=%{marker.size}<br>Literacy Rate (%)=%{y}<extra></extra>",
         "hovertext": [
          "orissa"
         ],
         "legendgroup": "Odia",
         "marker": {
          "color": "#FF6692",
          "size": [
           41974218
          ],
          "sizemode": "area",
          "sizeref": 55503.42805555555,
          "symbol": "circle"
         },
         "mode": "markers",
         "name": "Odia",
         "orientation": "v",
         "showlegend": true,
         "type": "scatter",
         "x": [
          41974218
         ],
         "xaxis": "x",
         "y": [
          70.83966666666667
         ],
         "yaxis": "y"
        },
        {
         "hovertemplate": "<b>%{hovertext}</b><br><br>State Language=Tamil<br>Population=%{marker.size}<br>Literacy Rate (%)=%{y}<extra></extra>",
         "hovertext": [
          "puducherry",
          "tamil nadu"
         ],
         "legendgroup": "Tamil",
         "marker": {
          "color": "#B6E880",
          "size": [
           1247953,
           72147030
          ],
          "sizemode": "area",
          "sizeref": 55503.42805555555,
          "symbol": "circle"
         },
         "mode": "markers",
         "name": "Tamil",
         "orientation": "v",
         "showlegend": true,
         "type": "scatter",
         "x": [
          1247953,
          72147030
         ],
         "xaxis": "x",
         "y": [
          87.4575,
          79.3375
         ],
         "yaxis": "y"
        },
        {
         "hovertemplate": "<b>%{hovertext}</b><br><br>State Language=Punjabi<br>Population=%{marker.size}<br>Literacy Rate (%)=%{y}<extra></extra>",
         "hovertext": [
          "punjab"
         ],
         "legendgroup": "Punjabi",
         "marker": {
          "color": "#FF97FF",
          "size": [
           27743338
          ],
          "sizemode": "area",
          "sizeref": 55503.42805555555,
          "symbol": "circle"
         },
         "mode": "markers",
         "name": "Punjabi",
         "orientation": "v",
         "showlegend": true,
         "type": "scatter",
         "x": [
          27743338
         ],
         "xaxis": "x",
         "y": [
          74.6825
         ],
         "yaxis": "y"
        },
        {
         "hovertemplate": "<b>%{hovertext}</b><br><br>State Language=Nepali<br>Population=%{marker.size}<br>Literacy Rate (%)=%{y}<extra></extra>",
         "hovertext": [
          "sikkim"
         ],
         "legendgroup": "Nepali",
         "marker": {
          "color": "#FECB52",
          "size": [
           610577
          ],
          "sizemode": "area",
          "sizeref": 55503.42805555555,
          "symbol": "circle"
         },
         "mode": "markers",
         "name": "Nepali",
         "orientation": "v",
         "showlegend": true,
         "type": "scatter",
         "x": [
          610577
         ],
         "xaxis": "x",
         "y": [
          80.1675
         ],
         "yaxis": "y"
        }
       ],
       "layout": {
        "legend": {
         "itemsizing": "constant",
         "title": {
          "text": "State Language"
         },
         "tracegroupgap": 0
        },
        "template": {
         "data": {
          "bar": [
           {
            "error_x": {
             "color": "#2a3f5f"
            },
            "error_y": {
             "color": "#2a3f5f"
            },
            "marker": {
             "line": {
              "color": "#E5ECF6",
              "width": 0.5
             },
             "pattern": {
              "fillmode": "overlay",
              "size": 10,
              "solidity": 0.2
             }
            },
            "type": "bar"
           }
          ],
          "barpolar": [
           {
            "marker": {
             "line": {
              "color": "#E5ECF6",
              "width": 0.5
             },
             "pattern": {
              "fillmode": "overlay",
              "size": 10,
              "solidity": 0.2
             }
            },
            "type": "barpolar"
           }
          ],
          "carpet": [
           {
            "aaxis": {
             "endlinecolor": "#2a3f5f",
             "gridcolor": "white",
             "linecolor": "white",
             "minorgridcolor": "white",
             "startlinecolor": "#2a3f5f"
            },
            "baxis": {
             "endlinecolor": "#2a3f5f",
             "gridcolor": "white",
             "linecolor": "white",
             "minorgridcolor": "white",
             "startlinecolor": "#2a3f5f"
            },
            "type": "carpet"
           }
          ],
          "choropleth": [
           {
            "colorbar": {
             "outlinewidth": 0,
             "ticks": ""
            },
            "type": "choropleth"
           }
          ],
          "contour": [
           {
            "colorbar": {
             "outlinewidth": 0,
             "ticks": ""
            },
            "colorscale": [
             [
              0,
              "#0d0887"
             ],
             [
              0.1111111111111111,
              "#46039f"
             ],
             [
              0.2222222222222222,
              "#7201a8"
             ],
             [
              0.3333333333333333,
              "#9c179e"
             ],
             [
              0.4444444444444444,
              "#bd3786"
             ],
             [
              0.5555555555555556,
              "#d8576b"
             ],
             [
              0.6666666666666666,
              "#ed7953"
             ],
             [
              0.7777777777777778,
              "#fb9f3a"
             ],
             [
              0.8888888888888888,
              "#fdca26"
             ],
             [
              1,
              "#f0f921"
             ]
            ],
            "type": "contour"
           }
          ],
          "contourcarpet": [
           {
            "colorbar": {
             "outlinewidth": 0,
             "ticks": ""
            },
            "type": "contourcarpet"
           }
          ],
          "heatmap": [
           {
            "colorbar": {
             "outlinewidth": 0,
             "ticks": ""
            },
            "colorscale": [
             [
              0,
              "#0d0887"
             ],
             [
              0.1111111111111111,
              "#46039f"
             ],
             [
              0.2222222222222222,
              "#7201a8"
             ],
             [
              0.3333333333333333,
              "#9c179e"
             ],
             [
              0.4444444444444444,
              "#bd3786"
             ],
             [
              0.5555555555555556,
              "#d8576b"
             ],
             [
              0.6666666666666666,
              "#ed7953"
             ],
             [
              0.7777777777777778,
              "#fb9f3a"
             ],
             [
              0.8888888888888888,
              "#fdca26"
             ],
             [
              1,
              "#f0f921"
             ]
            ],
            "type": "heatmap"
           }
          ],
          "heatmapgl": [
           {
            "colorbar": {
             "outlinewidth": 0,
             "ticks": ""
            },
            "colorscale": [
             [
              0,
              "#0d0887"
             ],
             [
              0.1111111111111111,
              "#46039f"
             ],
             [
              0.2222222222222222,
              "#7201a8"
             ],
             [
              0.3333333333333333,
              "#9c179e"
             ],
             [
              0.4444444444444444,
              "#bd3786"
             ],
             [
              0.5555555555555556,
              "#d8576b"
             ],
             [
              0.6666666666666666,
              "#ed7953"
             ],
             [
              0.7777777777777778,
              "#fb9f3a"
             ],
             [
              0.8888888888888888,
              "#fdca26"
             ],
             [
              1,
              "#f0f921"
             ]
            ],
            "type": "heatmapgl"
           }
          ],
          "histogram": [
           {
            "marker": {
             "pattern": {
              "fillmode": "overlay",
              "size": 10,
              "solidity": 0.2
             }
            },
            "type": "histogram"
           }
          ],
          "histogram2d": [
           {
            "colorbar": {
             "outlinewidth": 0,
             "ticks": ""
            },
            "colorscale": [
             [
              0,
              "#0d0887"
             ],
             [
              0.1111111111111111,
              "#46039f"
             ],
             [
              0.2222222222222222,
              "#7201a8"
             ],
             [
              0.3333333333333333,
              "#9c179e"
             ],
             [
              0.4444444444444444,
              "#bd3786"
             ],
             [
              0.5555555555555556,
              "#d8576b"
             ],
             [
              0.6666666666666666,
              "#ed7953"
             ],
             [
              0.7777777777777778,
              "#fb9f3a"
             ],
             [
              0.8888888888888888,
              "#fdca26"
             ],
             [
              1,
              "#f0f921"
             ]
            ],
            "type": "histogram2d"
           }
          ],
          "histogram2dcontour": [
           {
            "colorbar": {
             "outlinewidth": 0,
             "ticks": ""
            },
            "colorscale": [
             [
              0,
              "#0d0887"
             ],
             [
              0.1111111111111111,
              "#46039f"
             ],
             [
              0.2222222222222222,
              "#7201a8"
             ],
             [
              0.3333333333333333,
              "#9c179e"
             ],
             [
              0.4444444444444444,
              "#bd3786"
             ],
             [
              0.5555555555555556,
              "#d8576b"
             ],
             [
              0.6666666666666666,
              "#ed7953"
             ],
             [
              0.7777777777777778,
              "#fb9f3a"
             ],
             [
              0.8888888888888888,
              "#fdca26"
             ],
             [
              1,
              "#f0f921"
             ]
            ],
            "type": "histogram2dcontour"
           }
          ],
          "mesh3d": [
           {
            "colorbar": {
             "outlinewidth": 0,
             "ticks": ""
            },
            "type": "mesh3d"
           }
          ],
          "parcoords": [
           {
            "line": {
             "colorbar": {
              "outlinewidth": 0,
              "ticks": ""
             }
            },
            "type": "parcoords"
           }
          ],
          "pie": [
           {
            "automargin": true,
            "type": "pie"
           }
          ],
          "scatter": [
           {
            "fillpattern": {
             "fillmode": "overlay",
             "size": 10,
             "solidity": 0.2
            },
            "type": "scatter"
           }
          ],
          "scatter3d": [
           {
            "line": {
             "colorbar": {
              "outlinewidth": 0,
              "ticks": ""
             }
            },
            "marker": {
             "colorbar": {
              "outlinewidth": 0,
              "ticks": ""
             }
            },
            "type": "scatter3d"
           }
          ],
          "scattercarpet": [
           {
            "marker": {
             "colorbar": {
              "outlinewidth": 0,
              "ticks": ""
             }
            },
            "type": "scattercarpet"
           }
          ],
          "scattergeo": [
           {
            "marker": {
             "colorbar": {
              "outlinewidth": 0,
              "ticks": ""
             }
            },
            "type": "scattergeo"
           }
          ],
          "scattergl": [
           {
            "marker": {
             "colorbar": {
              "outlinewidth": 0,
              "ticks": ""
             }
            },
            "type": "scattergl"
           }
          ],
          "scattermapbox": [
           {
            "marker": {
             "colorbar": {
              "outlinewidth": 0,
              "ticks": ""
             }
            },
            "type": "scattermapbox"
           }
          ],
          "scatterpolar": [
           {
            "marker": {
             "colorbar": {
              "outlinewidth": 0,
              "ticks": ""
             }
            },
            "type": "scatterpolar"
           }
          ],
          "scatterpolargl": [
           {
            "marker": {
             "colorbar": {
              "outlinewidth": 0,
              "ticks": ""
             }
            },
            "type": "scatterpolargl"
           }
          ],
          "scatterternary": [
           {
            "marker": {
             "colorbar": {
              "outlinewidth": 0,
              "ticks": ""
             }
            },
            "type": "scatterternary"
           }
          ],
          "surface": [
           {
            "colorbar": {
             "outlinewidth": 0,
             "ticks": ""
            },
            "colorscale": [
             [
              0,
              "#0d0887"
             ],
             [
              0.1111111111111111,
              "#46039f"
             ],
             [
              0.2222222222222222,
              "#7201a8"
             ],
             [
              0.3333333333333333,
              "#9c179e"
             ],
             [
              0.4444444444444444,
              "#bd3786"
             ],
             [
              0.5555555555555556,
              "#d8576b"
             ],
             [
              0.6666666666666666,
              "#ed7953"
             ],
             [
              0.7777777777777778,
              "#fb9f3a"
             ],
             [
              0.8888888888888888,
              "#fdca26"
             ],
             [
              1,
              "#f0f921"
             ]
            ],
            "type": "surface"
           }
          ],
          "table": [
           {
            "cells": {
             "fill": {
              "color": "#EBF0F8"
             },
             "line": {
              "color": "white"
             }
            },
            "header": {
             "fill": {
              "color": "#C8D4E3"
             },
             "line": {
              "color": "white"
             }
            },
            "type": "table"
           }
          ]
         },
         "layout": {
          "annotationdefaults": {
           "arrowcolor": "#2a3f5f",
           "arrowhead": 0,
           "arrowwidth": 1
          },
          "autotypenumbers": "strict",
          "coloraxis": {
           "colorbar": {
            "outlinewidth": 0,
            "ticks": ""
           }
          },
          "colorscale": {
           "diverging": [
            [
             0,
             "#8e0152"
            ],
            [
             0.1,
             "#c51b7d"
            ],
            [
             0.2,
             "#de77ae"
            ],
            [
             0.3,
             "#f1b6da"
            ],
            [
             0.4,
             "#fde0ef"
            ],
            [
             0.5,
             "#f7f7f7"
            ],
            [
             0.6,
             "#e6f5d0"
            ],
            [
             0.7,
             "#b8e186"
            ],
            [
             0.8,
             "#7fbc41"
            ],
            [
             0.9,
             "#4d9221"
            ],
            [
             1,
             "#276419"
            ]
           ],
           "sequential": [
            [
             0,
             "#0d0887"
            ],
            [
             0.1111111111111111,
             "#46039f"
            ],
            [
             0.2222222222222222,
             "#7201a8"
            ],
            [
             0.3333333333333333,
             "#9c179e"
            ],
            [
             0.4444444444444444,
             "#bd3786"
            ],
            [
             0.5555555555555556,
             "#d8576b"
            ],
            [
             0.6666666666666666,
             "#ed7953"
            ],
            [
             0.7777777777777778,
             "#fb9f3a"
            ],
            [
             0.8888888888888888,
             "#fdca26"
            ],
            [
             1,
             "#f0f921"
            ]
           ],
           "sequentialminus": [
            [
             0,
             "#0d0887"
            ],
            [
             0.1111111111111111,
             "#46039f"
            ],
            [
             0.2222222222222222,
             "#7201a8"
            ],
            [
             0.3333333333333333,
             "#9c179e"
            ],
            [
             0.4444444444444444,
             "#bd3786"
            ],
            [
             0.5555555555555556,
             "#d8576b"
            ],
            [
             0.6666666666666666,
             "#ed7953"
            ],
            [
             0.7777777777777778,
             "#fb9f3a"
            ],
            [
             0.8888888888888888,
             "#fdca26"
            ],
            [
             1,
             "#f0f921"
            ]
           ]
          },
          "colorway": [
           "#636efa",
           "#EF553B",
           "#00cc96",
           "#ab63fa",
           "#FFA15A",
           "#19d3f3",
           "#FF6692",
           "#B6E880",
           "#FF97FF",
           "#FECB52"
          ],
          "font": {
           "color": "#2a3f5f"
          },
          "geo": {
           "bgcolor": "white",
           "lakecolor": "white",
           "landcolor": "#E5ECF6",
           "showlakes": true,
           "showland": true,
           "subunitcolor": "white"
          },
          "hoverlabel": {
           "align": "left"
          },
          "hovermode": "closest",
          "mapbox": {
           "style": "light"
          },
          "paper_bgcolor": "white",
          "plot_bgcolor": "#E5ECF6",
          "polar": {
           "angularaxis": {
            "gridcolor": "white",
            "linecolor": "white",
            "ticks": ""
           },
           "bgcolor": "#E5ECF6",
           "radialaxis": {
            "gridcolor": "white",
            "linecolor": "white",
            "ticks": ""
           }
          },
          "scene": {
           "xaxis": {
            "backgroundcolor": "#E5ECF6",
            "gridcolor": "white",
            "gridwidth": 2,
            "linecolor": "white",
            "showbackground": true,
            "ticks": "",
            "zerolinecolor": "white"
           },
           "yaxis": {
            "backgroundcolor": "#E5ECF6",
            "gridcolor": "white",
            "gridwidth": 2,
            "linecolor": "white",
            "showbackground": true,
            "ticks": "",
            "zerolinecolor": "white"
           },
           "zaxis": {
            "backgroundcolor": "#E5ECF6",
            "gridcolor": "white",
            "gridwidth": 2,
            "linecolor": "white",
            "showbackground": true,
            "ticks": "",
            "zerolinecolor": "white"
           }
          },
          "shapedefaults": {
           "line": {
            "color": "#2a3f5f"
           }
          },
          "ternary": {
           "aaxis": {
            "gridcolor": "white",
            "linecolor": "white",
            "ticks": ""
           },
           "baxis": {
            "gridcolor": "white",
            "linecolor": "white",
            "ticks": ""
           },
           "bgcolor": "#E5ECF6",
           "caxis": {
            "gridcolor": "white",
            "linecolor": "white",
            "ticks": ""
           }
          },
          "title": {
           "x": 0.05
          },
          "xaxis": {
           "automargin": true,
           "gridcolor": "white",
           "linecolor": "white",
           "ticks": "",
           "title": {
            "standoff": 15
           },
           "zerolinecolor": "white",
           "zerolinewidth": 2
          },
          "yaxis": {
           "automargin": true,
           "gridcolor": "white",
           "linecolor": "white",
           "ticks": "",
           "title": {
            "standoff": 15
           },
           "zerolinecolor": "white",
           "zerolinewidth": 2
          }
         }
        },
        "title": {
         "text": "Interactive Bubble Chart: Population vs Literacy Rate"
        },
        "xaxis": {
         "anchor": "y",
         "domain": [
          0,
          1
         ],
         "title": {
          "text": "Population"
         }
        },
        "yaxis": {
         "anchor": "x",
         "domain": [
          0,
          1
         ],
         "title": {
          "text": "Literacy Rate (%)"
         }
        }
       }
      }
     },
     "metadata": {},
     "output_type": "display_data"
    }
   ],
   "source": [
    "fig = px.scatter(\n",
    "    literacy_and_language_df,\n",
    "    x=\"State Population\",\n",
    "    y=\"Literacy\",\n",
    "    size=\"State Population\",\n",
    "    color=\"State Language\",\n",
    "    hover_name=\"State\", \n",
    "    title=\"Interactive Bubble Chart: Population vs Literacy Rate\",\n",
    "    labels={\"State Population\": \"Population\", \"Literacy\": \"Literacy Rate (%)\"},\n",
    "    size_max=60\n",
    ")\n",
    "\n",
    "fig.show()"
   ]
  },
  {
   "cell_type": "markdown",
   "metadata": {},
   "source": [
    "## Overall Takeaways:\n",
    "- On the whole, the data suggests that while the language spoken in a State and its population size have an impact on literacy rates, there are other determinants of literacy as well, which perhaps have a bigger impact. \n",
    "- These other determinants could include State laws and policies, socio-economic conditions, gender disparities etc.\n",
    "- The hypothesis is only partially supported, with states like Kerala, Lakshadweep, Uttar Pradesh etc. being excpetions and further highlighting the complexity of the relationship."
   ]
  }
 ],
 "metadata": {
  "kernelspec": {
   "display_name": "Python 3",
   "language": "python",
   "name": "python3"
  },
  "language_info": {
   "codemirror_mode": {
    "name": "ipython",
    "version": 3
   },
   "file_extension": ".py",
   "mimetype": "text/x-python",
   "name": "python",
   "nbconvert_exporter": "python",
   "pygments_lexer": "ipython3",
   "version": "3.12.7"
  }
 },
 "nbformat": 4,
 "nbformat_minor": 2
}
